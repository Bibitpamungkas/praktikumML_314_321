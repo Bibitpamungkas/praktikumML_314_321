{
  "nbformat": 4,
  "nbformat_minor": 0,
  "metadata": {
    "colab": {
      "name": "Modul 3 Kelompok Praktikum.ipynb",
      "provenance": [],
      "collapsed_sections": [],
      "authorship_tag": "ABX9TyMmP+Qx6DRVRzEPsdssCR+x",
      "include_colab_link": true
    },
    "kernelspec": {
      "name": "python3",
      "display_name": "Python 3"
    },
    "language_info": {
      "name": "python"
    },
    "accelerator": "GPU"
  },
  "cells": [
    {
      "cell_type": "markdown",
      "metadata": {
        "id": "view-in-github",
        "colab_type": "text"
      },
      "source": [
        "<a href=\"https://colab.research.google.com/github/Bibitpamungkas/praktikumML_314_321/blob/Praktikum/Modul_3_Tugas_Kelompok_Praktikum.ipynb\" target=\"_parent\"><img src=\"https://colab.research.google.com/assets/colab-badge.svg\" alt=\"Open In Colab\"/></a>"
      ]
    },
    {
      "cell_type": "code",
      "metadata": {
        "colab": {
          "base_uri": "https://localhost:8080/"
        },
        "id": "OLidCrBbSH5h",
        "outputId": "bf8c8232-157d-4ebd-a94a-07c8a9dc53df"
      },
      "source": [
        "from google.colab import drive\n",
        "drive.mount(\"/content/gdrive\", force_remount=True)"
      ],
      "execution_count": 1,
      "outputs": [
        {
          "output_type": "stream",
          "name": "stdout",
          "text": [
            "Mounted at /content/gdrive\n"
          ]
        }
      ]
    },
    {
      "cell_type": "code",
      "metadata": {
        "colab": {
          "base_uri": "https://localhost:8080/"
        },
        "id": "NT6o_PwlVfnn",
        "outputId": "c8c03b49-4595-4313-8807-c64f53afd4ca"
      },
      "source": [
        "!pip install kaggle"
      ],
      "execution_count": 2,
      "outputs": [
        {
          "output_type": "stream",
          "name": "stdout",
          "text": [
            "Requirement already satisfied: kaggle in /usr/local/lib/python3.7/dist-packages (1.5.12)\n",
            "Requirement already satisfied: urllib3 in /usr/local/lib/python3.7/dist-packages (from kaggle) (1.24.3)\n",
            "Requirement already satisfied: certifi in /usr/local/lib/python3.7/dist-packages (from kaggle) (2021.5.30)\n",
            "Requirement already satisfied: python-slugify in /usr/local/lib/python3.7/dist-packages (from kaggle) (5.0.2)\n",
            "Requirement already satisfied: tqdm in /usr/local/lib/python3.7/dist-packages (from kaggle) (4.62.3)\n",
            "Requirement already satisfied: python-dateutil in /usr/local/lib/python3.7/dist-packages (from kaggle) (2.8.2)\n",
            "Requirement already satisfied: six>=1.10 in /usr/local/lib/python3.7/dist-packages (from kaggle) (1.15.0)\n",
            "Requirement already satisfied: requests in /usr/local/lib/python3.7/dist-packages (from kaggle) (2.23.0)\n",
            "Requirement already satisfied: text-unidecode>=1.3 in /usr/local/lib/python3.7/dist-packages (from python-slugify->kaggle) (1.3)\n",
            "Requirement already satisfied: chardet<4,>=3.0.2 in /usr/local/lib/python3.7/dist-packages (from requests->kaggle) (3.0.4)\n",
            "Requirement already satisfied: idna<3,>=2.5 in /usr/local/lib/python3.7/dist-packages (from requests->kaggle) (2.10)\n"
          ]
        }
      ]
    },
    {
      "cell_type": "code",
      "metadata": {
        "colab": {
          "base_uri": "https://localhost:8080/"
        },
        "id": "DdS900v_Vhxg",
        "outputId": "0a600f88-6570-4141-8003-b9902834594a"
      },
      "source": [
        "%cd /content/gdrive/MyDrive/content/sample_data/"
      ],
      "execution_count": 3,
      "outputs": [
        {
          "output_type": "stream",
          "name": "stdout",
          "text": [
            "[Errno 2] No such file or directory: '/content/gdrive/MyDrive/content/sample_data/'\n",
            "/content\n"
          ]
        }
      ]
    },
    {
      "cell_type": "code",
      "metadata": {
        "id": "To7VBDpjVm79"
      },
      "source": [
        "import os\n",
        "os.environ['KAGGLE_CONFIG_DIR'] = \"/tmp/\""
      ],
      "execution_count": 4,
      "outputs": []
    },
    {
      "cell_type": "code",
      "metadata": {
        "id": "BHKCIYjVVoNW"
      },
      "source": [
        "# jika anda ingin menggunakan kaggle API untuk mengunduh dataset gunakan\n",
        "# kode berikut untuk membantu anda membuat config kaggle.json\n",
        "# pastikan anda mendaftar akun kaggle terlebih dahulu\n",
        "# kemudian menuju halaman my account dan buat token API anda\n",
        "\n",
        "api_token = {\"username\":\"bibitpamungkas\",\"key\":\"0b4a500fd9a858ee152de296398002ab\"}\n",
        "import json\n",
        "import zipfile\n",
        "import os\n",
        "with open('/tmp/kaggle.json', 'w') as file:\n",
        "    json.dump(api_token, file)\n",
        "!chmod 600 /tmp/kaggle.json"
      ],
      "execution_count": 5,
      "outputs": []
    },
    {
      "cell_type": "code",
      "metadata": {
        "colab": {
          "base_uri": "https://localhost:8080/"
        },
        "id": "6GLqIFi7VtBq",
        "outputId": "4f8ca0f1-530b-4c6c-bcb6-97b3172d0bd3"
      },
      "source": [
        "!kaggle datasets download -d jtiptj/chest-xray-pneumoniacovid19tuberculosis"
      ],
      "execution_count": 6,
      "outputs": [
        {
          "output_type": "stream",
          "name": "stdout",
          "text": [
            "Downloading chest-xray-pneumoniacovid19tuberculosis.zip to /content\n",
            " 99% 1.73G/1.74G [00:42<00:00, 58.5MB/s]\n",
            "100% 1.74G/1.74G [00:42<00:00, 44.0MB/s]\n"
          ]
        }
      ]
    },
    {
      "cell_type": "code",
      "metadata": {
        "id": "VN5_ChJdWesQ"
      },
      "source": [
        "# Ekstrak dataset\n",
        "\n",
        "import os\n",
        "import zipfile\n",
        "\n",
        "os.makedirs('/tmp/chest-xray-pneumoniacovid19tuberculosis')\n",
        "\n",
        "local_zip = '/content/chest-xray-pneumoniacovid19tuberculosis.zip'\n",
        "zip_ref = zipfile.ZipFile(local_zip, 'r')\n",
        "zip_ref.extractall('/tmp/chest-xray-pneumoniacovid19tuberculosis')\n",
        "zip_ref.close()"
      ],
      "execution_count": 7,
      "outputs": []
    },
    {
      "cell_type": "code",
      "metadata": {
        "colab": {
          "base_uri": "https://localhost:8080/"
        },
        "id": "qa950CRYMDfR",
        "outputId": "b6cc9a4f-5287-41fb-b6e0-e2fc8ce0304d"
      },
      "source": [
        "import os\n",
        "base_dir = '/tmp/chest-xray-pneumoniacovid19tuberculosis'\n",
        "train = os.path.join(base_dir,'train')\n",
        "validation = os.path.join(base_dir,'val')\n",
        "test = os.path.join(base_dir,'test')\n",
        "\n",
        "c19_tr = os.path.join(train,'COVID19')\n",
        "c19_va = os.path.join(validation,'COVID19')\n",
        "c19_ts = os.path.join(test,'COVID19')\n",
        "\n",
        "nr_tr = os.path.join(train,'NORMAL')\n",
        "nr_va = os.path.join(validation,'NORMAL')\n",
        "nr_ts = os.path.join(test,'NORMAL')\n",
        "\n",
        "pn_tr = os.path.join(train,'PNEUMONIA')\n",
        "pn_va = os.path.join(validation,'PNEUMONIA')\n",
        "pn_ts = os.path.join(test,'PNEUMONIA')\n",
        "\n",
        "tb_tr = os.path.join(train,'TURBERCULOSIS')\n",
        "tb_va = os.path.join(validation,'TURBERCULOSIS')\n",
        "tb_ts = os.path.join(test,'TURBERCULOSIS')\n",
        "\n",
        "#file training dan validation\n",
        "file_train_c19 = os.listdir(c19_tr)\n",
        "file_validation_c19 = os.listdir(c19_va)\n",
        "file_test_c19 = os.listdir(c19_ts)\n",
        "file_train_nr = os.listdir(nr_tr)\n",
        "file_validation_nr = os.listdir(nr_va)\n",
        "file_test_nr = os.listdir(nr_ts)\n",
        "file_train_pn = os.listdir(pn_tr)\n",
        "file_validation_pn = os.listdir(pn_va)\n",
        "file_test_pn = os.listdir(pn_ts)\n",
        "file_train_tb = os.listdir(tb_tr)\n",
        "file_validation_tb = os.listdir(tb_va)\n",
        "file_test_tb = os.listdir(tb_ts)\n",
        "\n",
        "#Print jumlah data training dan validation\n",
        "print(\"Data COVID19 Train : \" + str(len(file_train_c19)))\n",
        "print(\"Data COVID19 Validation : \" + str(len(file_validation_c19)))\n",
        "print(\"Data COVID19 Test : \" + str(len(file_test_c19)))\n",
        "print(\"Data NORMAL Train : \" + str(len(file_train_nr)))\n",
        "print(\"Data NORMAL Validation : \" + str(len(file_validation_nr)))\n",
        "print(\"Data NORMAL Test : \" + str(len(file_test_nr)))\n",
        "print(\"Data PNEUMONIA Train : \" + str(len(file_train_pn)))\n",
        "print(\"Data PNEUMONIA Validation : \" + str(len(file_validation_pn)))\n",
        "print(\"Data PNEUMONIA Test : \" + str(len(file_test_pn)))\n",
        "print(\"Data TURBERCULOSIS Train : \" + str(len(file_train_tb)))\n",
        "print(\"Data TURBERCULOSIS Validation : \" + str(len(file_validation_tb)))\n",
        "print(\"Data TURBERCULOSIS Test : \" + str(len(file_test_tb)))"
      ],
      "execution_count": 8,
      "outputs": [
        {
          "output_type": "stream",
          "name": "stdout",
          "text": [
            "Data COVID19 Train : 460\n",
            "Data COVID19 Validation : 10\n",
            "Data COVID19 Test : 106\n",
            "Data NORMAL Train : 1341\n",
            "Data NORMAL Validation : 8\n",
            "Data NORMAL Test : 234\n",
            "Data PNEUMONIA Train : 3875\n",
            "Data PNEUMONIA Validation : 8\n",
            "Data PNEUMONIA Test : 390\n",
            "Data TURBERCULOSIS Train : 650\n",
            "Data TURBERCULOSIS Validation : 12\n",
            "Data TURBERCULOSIS Test : 41\n"
          ]
        }
      ]
    },
    {
      "cell_type": "code",
      "metadata": {
        "id": "M_fsXra-GE_z",
        "colab": {
          "base_uri": "https://localhost:8080/"
        },
        "outputId": "729449aa-e0b0-485f-ebc2-fb6d2d36e61a"
      },
      "source": [
        "# TULIS KODE ANDA DISINI\n",
        "\n",
        "from keras.preprocessing.image import ImageDataGenerator\n",
        "from sklearn.utils import shuffle\n",
        "\n",
        "batch_size = 32\n",
        "augmen_gen = ImageDataGenerator(rescale=1 / 255,\n",
        "                                rotation_range=40,\n",
        "                                width_shift_range=0.2,\n",
        "                                height_shift_range=0.2,\n",
        "                                zoom_range=0.2,\n",
        "                                horizontal_flip=True,\n",
        "                                fill_mode='nearest')\n",
        "\n",
        "train_aug = augmen_gen.flow_from_directory(\n",
        "    '/tmp/chest-xray-pneumoniacovid19tuberculosis/train',\n",
        "    class_mode = 'categorical',\n",
        "    shuffle=True,\n",
        "    target_size = (200,200),\n",
        "    batch_size=batch_size,\n",
        "    color_mode ='rgb'\n",
        ")\n",
        "\n",
        "val_aug = augmen_gen.flow_from_directory(\n",
        "    '/tmp/chest-xray-pneumoniacovid19tuberculosis/val',\n",
        "    class_mode = 'categorical',\n",
        "    shuffle=True,\n",
        "    target_size = (200,200),\n",
        "    batch_size= batch_size,\n",
        "    color_mode ='rgb'\n",
        ")\n",
        "\n",
        "test_aug = augmen_gen.flow_from_directory(\n",
        "    '/tmp/chest-xray-pneumoniacovid19tuberculosis/test',\n",
        "    class_mode = 'categorical',\n",
        "    shuffle=False,\n",
        "    target_size = (200,200),\n",
        "    batch_size=batch_size,\n",
        "    color_mode ='rgb',\n",
        ")"
      ],
      "execution_count": 9,
      "outputs": [
        {
          "output_type": "stream",
          "name": "stdout",
          "text": [
            "Found 6326 images belonging to 4 classes.\n",
            "Found 38 images belonging to 4 classes.\n",
            "Found 771 images belonging to 4 classes.\n"
          ]
        }
      ]
    },
    {
      "cell_type": "code",
      "metadata": {
        "id": "5mNtqiW_aQRB",
        "colab": {
          "base_uri": "https://localhost:8080/"
        },
        "outputId": "0da26b3c-4171-4899-9770-833f42122d1f"
      },
      "source": [
        "# TULIS KODE ANDA DISINI\n",
        "from tensorflow.keras.models import Sequential\n",
        "from tensorflow.keras.layers import InputLayer, Dense, Conv2D, MaxPool2D, Flatten, BatchNormalization, Dropout\n",
        "from tensorflow.keras.optimizers import Adam\n",
        "\n",
        "# DEFINISIKAN MODEL ANDA DISINI\n",
        "\n",
        "#Feature Selection\n",
        "model = Sequential()\n",
        "\n",
        "model.add(InputLayer(input_shape=[200,200,3]))\n",
        "model.add(Conv2D(filters=32, kernel_size=3, strides=1, padding='same', activation='relu'))\n",
        "model.add(MaxPool2D(pool_size=2, padding='same'))\n",
        "model.add(Conv2D(filters=64, kernel_size=3, strides=1, padding='same', activation='relu'))\n",
        "model.add(MaxPool2D(pool_size=2, padding='same'))\n",
        "model.add(Conv2D(filters=128, kernel_size=3, strides=1, padding='same', activation='relu'))\n",
        "model.add(MaxPool2D(pool_size=2, padding='same'))\n",
        "model.add(Dropout(0.25))\n",
        "model.add(BatchNormalization())\n",
        "model.add(Flatten())\n",
        "\n",
        "#Fully Connected Layer\n",
        "model.add(Dense(128, activation='relu'))\n",
        "model.add(Dropout(0.3))\n",
        "model.add(Dense(4, activation='softmax'))\n",
        "print(model.summary())\n"
      ],
      "execution_count": 10,
      "outputs": [
        {
          "output_type": "stream",
          "name": "stdout",
          "text": [
            "Model: \"sequential\"\n",
            "_________________________________________________________________\n",
            "Layer (type)                 Output Shape              Param #   \n",
            "=================================================================\n",
            "conv2d (Conv2D)              (None, 200, 200, 32)      896       \n",
            "_________________________________________________________________\n",
            "max_pooling2d (MaxPooling2D) (None, 100, 100, 32)      0         \n",
            "_________________________________________________________________\n",
            "conv2d_1 (Conv2D)            (None, 100, 100, 64)      18496     \n",
            "_________________________________________________________________\n",
            "max_pooling2d_1 (MaxPooling2 (None, 50, 50, 64)        0         \n",
            "_________________________________________________________________\n",
            "conv2d_2 (Conv2D)            (None, 50, 50, 128)       73856     \n",
            "_________________________________________________________________\n",
            "max_pooling2d_2 (MaxPooling2 (None, 25, 25, 128)       0         \n",
            "_________________________________________________________________\n",
            "dropout (Dropout)            (None, 25, 25, 128)       0         \n",
            "_________________________________________________________________\n",
            "batch_normalization (BatchNo (None, 25, 25, 128)       512       \n",
            "_________________________________________________________________\n",
            "flatten (Flatten)            (None, 80000)             0         \n",
            "_________________________________________________________________\n",
            "dense (Dense)                (None, 128)               10240128  \n",
            "_________________________________________________________________\n",
            "dropout_1 (Dropout)          (None, 128)               0         \n",
            "_________________________________________________________________\n",
            "dense_1 (Dense)              (None, 4)                 516       \n",
            "=================================================================\n",
            "Total params: 10,334,404\n",
            "Trainable params: 10,334,148\n",
            "Non-trainable params: 256\n",
            "_________________________________________________________________\n",
            "None\n"
          ]
        }
      ]
    },
    {
      "cell_type": "code",
      "metadata": {
        "id": "zGM8R5sMaSG7",
        "colab": {
          "base_uri": "https://localhost:8080/"
        },
        "outputId": "dedca1a6-1668-492d-e6b3-b348d0452125"
      },
      "source": [
        "# Compile model\n",
        "from tensorflow.keras.optimizers import Adam\n",
        "\n",
        "model.compile(optimizer=Adam(lr=0.001), \n",
        "              loss='categorical_crossentropy', \n",
        "              metrics=['acc'])"
      ],
      "execution_count": 11,
      "outputs": [
        {
          "output_type": "stream",
          "name": "stderr",
          "text": [
            "/usr/local/lib/python3.7/dist-packages/keras/optimizer_v2/optimizer_v2.py:356: UserWarning: The `lr` argument is deprecated, use `learning_rate` instead.\n",
            "  \"The `lr` argument is deprecated, use `learning_rate` instead.\")\n"
          ]
        }
      ]
    },
    {
      "cell_type": "code",
      "metadata": {
        "id": "-imvGamcaTv4",
        "colab": {
          "base_uri": "https://localhost:8080/"
        },
        "outputId": "ffb29bec-9ca6-46cf-a52d-f6f39e4c86fd"
      },
      "source": [
        "H = model.fit(train_aug,steps_per_epoch=10,  batch_size=20, epochs=100, validation_data=test_aug, validation_steps=10, verbose=2)"
      ],
      "execution_count": 12,
      "outputs": [
        {
          "output_type": "stream",
          "name": "stdout",
          "text": [
            "Epoch 1/100\n",
            "10/10 - 50s - loss: 2.9065 - acc: 0.4500 - val_loss: 0.8118 - val_acc: 0.5750\n",
            "Epoch 2/100\n",
            "10/10 - 18s - loss: 1.0496 - acc: 0.6219 - val_loss: 2.0320 - val_acc: 0.0938\n",
            "Epoch 3/100\n",
            "10/10 - 18s - loss: 0.8464 - acc: 0.6313 - val_loss: 1.2391 - val_acc: 0.3625\n",
            "Epoch 4/100\n",
            "10/10 - 18s - loss: 0.7888 - acc: 0.6750 - val_loss: 1.2728 - val_acc: 0.0750\n",
            "Epoch 5/100\n",
            "10/10 - 17s - loss: 0.8453 - acc: 0.6750 - val_loss: 1.2973 - val_acc: 0.4812\n",
            "Epoch 6/100\n",
            "10/10 - 17s - loss: 0.7833 - acc: 0.6875 - val_loss: 1.3444 - val_acc: 0.3219\n",
            "Epoch 7/100\n",
            "10/10 - 17s - loss: 0.7450 - acc: 0.7063 - val_loss: 1.6782 - val_acc: 0.0437\n",
            "Epoch 8/100\n",
            "10/10 - 18s - loss: 0.6598 - acc: 0.7344 - val_loss: 1.6800 - val_acc: 0.0000e+00\n",
            "Epoch 9/100\n",
            "10/10 - 17s - loss: 0.6067 - acc: 0.7188 - val_loss: 2.9760 - val_acc: 0.0000e+00\n",
            "Epoch 10/100\n",
            "10/10 - 18s - loss: 0.6758 - acc: 0.7531 - val_loss: 1.2094 - val_acc: 0.1406\n",
            "Epoch 11/100\n",
            "10/10 - 18s - loss: 0.5224 - acc: 0.7844 - val_loss: 1.4739 - val_acc: 0.2125\n",
            "Epoch 12/100\n",
            "10/10 - 18s - loss: 0.6084 - acc: 0.7656 - val_loss: 1.0773 - val_acc: 0.5125\n",
            "Epoch 13/100\n",
            "10/10 - 17s - loss: 0.6426 - acc: 0.7594 - val_loss: 0.9751 - val_acc: 0.7500\n",
            "Epoch 14/100\n",
            "10/10 - 27s - loss: 0.6267 - acc: 0.7406 - val_loss: 0.9967 - val_acc: 0.8156\n",
            "Epoch 15/100\n",
            "10/10 - 17s - loss: 0.5098 - acc: 0.7937 - val_loss: 1.3675 - val_acc: 0.1375\n",
            "Epoch 16/100\n",
            "10/10 - 18s - loss: 0.6671 - acc: 0.7125 - val_loss: 0.6508 - val_acc: 0.7188\n",
            "Epoch 17/100\n",
            "10/10 - 18s - loss: 0.6783 - acc: 0.7437 - val_loss: 1.2755 - val_acc: 0.3063\n",
            "Epoch 18/100\n",
            "10/10 - 17s - loss: 0.6265 - acc: 0.7290 - val_loss: 1.6658 - val_acc: 0.3594\n",
            "Epoch 19/100\n",
            "10/10 - 18s - loss: 0.8797 - acc: 0.6806 - val_loss: 1.4560 - val_acc: 0.0063\n",
            "Epoch 20/100\n",
            "10/10 - 18s - loss: 0.6619 - acc: 0.7000 - val_loss: 1.6236 - val_acc: 0.0156\n",
            "Epoch 21/100\n",
            "10/10 - 18s - loss: 0.8000 - acc: 0.6719 - val_loss: 1.6959 - val_acc: 0.0188\n",
            "Epoch 22/100\n",
            "10/10 - 19s - loss: 0.6820 - acc: 0.7563 - val_loss: 1.1233 - val_acc: 0.1750\n",
            "Epoch 23/100\n",
            "10/10 - 18s - loss: 0.6244 - acc: 0.7344 - val_loss: 1.5742 - val_acc: 0.0063\n",
            "Epoch 24/100\n",
            "10/10 - 18s - loss: 0.6004 - acc: 0.7469 - val_loss: 1.6027 - val_acc: 0.0250\n",
            "Epoch 25/100\n",
            "10/10 - 18s - loss: 0.5348 - acc: 0.7656 - val_loss: 7.7681 - val_acc: 0.0031\n",
            "Epoch 26/100\n",
            "10/10 - 18s - loss: 0.6966 - acc: 0.7563 - val_loss: 1.1719 - val_acc: 0.1906\n",
            "Epoch 27/100\n",
            "10/10 - 18s - loss: 0.7069 - acc: 0.6875 - val_loss: 1.0435 - val_acc: 0.6219\n",
            "Epoch 28/100\n",
            "10/10 - 18s - loss: 0.6555 - acc: 0.7188 - val_loss: 1.2595 - val_acc: 0.2031\n",
            "Epoch 29/100\n",
            "10/10 - 18s - loss: 0.5593 - acc: 0.7656 - val_loss: 2.1252 - val_acc: 0.0844\n",
            "Epoch 30/100\n",
            "10/10 - 18s - loss: 0.6425 - acc: 0.7469 - val_loss: 1.0313 - val_acc: 0.4531\n",
            "Epoch 31/100\n",
            "10/10 - 17s - loss: 0.5554 - acc: 0.7875 - val_loss: 2.2803 - val_acc: 0.0031\n",
            "Epoch 32/100\n",
            "10/10 - 18s - loss: 0.5479 - acc: 0.7844 - val_loss: 1.1501 - val_acc: 0.4969\n",
            "Epoch 33/100\n",
            "10/10 - 17s - loss: 0.4489 - acc: 0.8375 - val_loss: 0.7317 - val_acc: 0.7437\n",
            "Epoch 34/100\n",
            "10/10 - 18s - loss: 0.6137 - acc: 0.7500 - val_loss: 1.0372 - val_acc: 0.6438\n",
            "Epoch 35/100\n",
            "10/10 - 18s - loss: 0.5067 - acc: 0.7844 - val_loss: 1.6997 - val_acc: 0.4062\n",
            "Epoch 36/100\n",
            "10/10 - 17s - loss: 0.5177 - acc: 0.8031 - val_loss: 1.4389 - val_acc: 0.3781\n",
            "Epoch 37/100\n",
            "10/10 - 18s - loss: 0.4911 - acc: 0.8000 - val_loss: 1.2557 - val_acc: 0.2625\n",
            "Epoch 38/100\n",
            "10/10 - 17s - loss: 0.6133 - acc: 0.7937 - val_loss: 0.6239 - val_acc: 0.8000\n",
            "Epoch 39/100\n",
            "10/10 - 18s - loss: 0.5215 - acc: 0.7906 - val_loss: 0.7961 - val_acc: 0.7594\n",
            "Epoch 40/100\n",
            "10/10 - 18s - loss: 0.7909 - acc: 0.7281 - val_loss: 4.5684 - val_acc: 0.0156\n",
            "Epoch 41/100\n",
            "10/10 - 18s - loss: 0.5486 - acc: 0.7812 - val_loss: 1.7022 - val_acc: 0.1906\n",
            "Epoch 42/100\n",
            "10/10 - 18s - loss: 0.5120 - acc: 0.7969 - val_loss: 1.9182 - val_acc: 0.1719\n",
            "Epoch 43/100\n",
            "10/10 - 18s - loss: 0.5790 - acc: 0.7781 - val_loss: 0.6555 - val_acc: 0.7531\n",
            "Epoch 44/100\n",
            "10/10 - 18s - loss: 0.6717 - acc: 0.7563 - val_loss: 0.7658 - val_acc: 0.7094\n",
            "Epoch 45/100\n",
            "10/10 - 18s - loss: 0.6423 - acc: 0.7871 - val_loss: 0.6787 - val_acc: 0.7500\n",
            "Epoch 46/100\n",
            "10/10 - 18s - loss: 0.5058 - acc: 0.7781 - val_loss: 1.7684 - val_acc: 0.1500\n",
            "Epoch 47/100\n",
            "10/10 - 17s - loss: 0.4828 - acc: 0.8062 - val_loss: 0.8628 - val_acc: 0.7281\n",
            "Epoch 48/100\n",
            "10/10 - 18s - loss: 0.4797 - acc: 0.8094 - val_loss: 5.7884 - val_acc: 0.1000\n",
            "Epoch 49/100\n",
            "10/10 - 18s - loss: 0.5258 - acc: 0.7812 - val_loss: 4.7758 - val_acc: 0.2688\n",
            "Epoch 50/100\n",
            "10/10 - 18s - loss: 0.6164 - acc: 0.7875 - val_loss: 1.1477 - val_acc: 0.5000\n",
            "Epoch 51/100\n",
            "10/10 - 18s - loss: 0.5724 - acc: 0.8031 - val_loss: 5.7551 - val_acc: 0.0906\n",
            "Epoch 52/100\n",
            "10/10 - 19s - loss: 0.6151 - acc: 0.7719 - val_loss: 6.7472 - val_acc: 0.0969\n",
            "Epoch 53/100\n",
            "10/10 - 18s - loss: 0.4869 - acc: 0.8125 - val_loss: 6.3116 - val_acc: 0.0437\n",
            "Epoch 54/100\n",
            "10/10 - 18s - loss: 0.4989 - acc: 0.8156 - val_loss: 3.2660 - val_acc: 0.0000e+00\n",
            "Epoch 55/100\n",
            "10/10 - 17s - loss: 0.4516 - acc: 0.8000 - val_loss: 0.9820 - val_acc: 0.5375\n",
            "Epoch 56/100\n",
            "10/10 - 18s - loss: 0.5682 - acc: 0.7500 - val_loss: 3.0514 - val_acc: 0.0625\n",
            "Epoch 57/100\n",
            "10/10 - 17s - loss: 0.5086 - acc: 0.8000 - val_loss: 3.6109 - val_acc: 0.0156\n",
            "Epoch 58/100\n",
            "10/10 - 18s - loss: 0.5208 - acc: 0.8250 - val_loss: 1.3582 - val_acc: 0.2750\n",
            "Epoch 59/100\n",
            "10/10 - 17s - loss: 0.5374 - acc: 0.7875 - val_loss: 2.1649 - val_acc: 0.1906\n",
            "Epoch 60/100\n",
            "10/10 - 18s - loss: 0.6906 - acc: 0.7688 - val_loss: 3.9189 - val_acc: 0.1719\n",
            "Epoch 61/100\n",
            "10/10 - 17s - loss: 0.4787 - acc: 0.7875 - val_loss: 2.9325 - val_acc: 0.1844\n",
            "Epoch 62/100\n",
            "10/10 - 17s - loss: 0.5102 - acc: 0.7781 - val_loss: 1.6788 - val_acc: 0.3250\n",
            "Epoch 63/100\n",
            "10/10 - 18s - loss: 0.6025 - acc: 0.7812 - val_loss: 7.9866 - val_acc: 0.0688\n",
            "Epoch 64/100\n",
            "10/10 - 17s - loss: 0.4048 - acc: 0.8469 - val_loss: 3.8881 - val_acc: 0.0719\n",
            "Epoch 65/100\n",
            "10/10 - 18s - loss: 0.4596 - acc: 0.8094 - val_loss: 2.5533 - val_acc: 0.1875\n",
            "Epoch 66/100\n",
            "10/10 - 18s - loss: 0.4092 - acc: 0.8438 - val_loss: 0.9253 - val_acc: 0.6844\n",
            "Epoch 67/100\n",
            "10/10 - 17s - loss: 0.4133 - acc: 0.8438 - val_loss: 3.1229 - val_acc: 0.1813\n",
            "Epoch 68/100\n",
            "10/10 - 17s - loss: 0.4048 - acc: 0.8419 - val_loss: 1.3650 - val_acc: 0.5688\n",
            "Epoch 69/100\n",
            "10/10 - 18s - loss: 0.3665 - acc: 0.8438 - val_loss: 3.8286 - val_acc: 0.1906\n",
            "Epoch 70/100\n",
            "10/10 - 18s - loss: 0.4634 - acc: 0.8094 - val_loss: 10.5138 - val_acc: 0.1125\n",
            "Epoch 71/100\n",
            "10/10 - 18s - loss: 0.5283 - acc: 0.7625 - val_loss: 5.4143 - val_acc: 0.0375\n",
            "Epoch 72/100\n",
            "10/10 - 18s - loss: 0.5324 - acc: 0.8188 - val_loss: 2.8492 - val_acc: 0.4938\n",
            "Epoch 73/100\n",
            "10/10 - 18s - loss: 0.5112 - acc: 0.7688 - val_loss: 5.1748 - val_acc: 0.0719\n",
            "Epoch 74/100\n",
            "10/10 - 18s - loss: 0.4668 - acc: 0.8031 - val_loss: 1.0431 - val_acc: 0.6844\n",
            "Epoch 75/100\n",
            "10/10 - 17s - loss: 0.5098 - acc: 0.7875 - val_loss: 12.2962 - val_acc: 0.0000e+00\n",
            "Epoch 76/100\n",
            "10/10 - 17s - loss: 0.5401 - acc: 0.7688 - val_loss: 1.6538 - val_acc: 0.2188\n",
            "Epoch 77/100\n",
            "10/10 - 17s - loss: 0.4548 - acc: 0.8156 - val_loss: 0.8632 - val_acc: 0.7500\n",
            "Epoch 78/100\n",
            "10/10 - 17s - loss: 0.5306 - acc: 0.8125 - val_loss: 19.3799 - val_acc: 0.0000e+00\n",
            "Epoch 79/100\n",
            "10/10 - 17s - loss: 0.5602 - acc: 0.7500 - val_loss: 6.0196 - val_acc: 0.0125\n",
            "Epoch 80/100\n",
            "10/10 - 17s - loss: 0.5308 - acc: 0.8344 - val_loss: 32.9184 - val_acc: 0.0000e+00\n",
            "Epoch 81/100\n",
            "10/10 - 17s - loss: 0.4817 - acc: 0.7969 - val_loss: 54.7215 - val_acc: 0.0000e+00\n",
            "Epoch 82/100\n",
            "10/10 - 17s - loss: 0.4439 - acc: 0.8094 - val_loss: 3.0127 - val_acc: 0.6594\n",
            "Epoch 83/100\n",
            "10/10 - 17s - loss: 0.4454 - acc: 0.8125 - val_loss: 1.4313 - val_acc: 0.7125\n",
            "Epoch 84/100\n",
            "10/10 - 17s - loss: 0.5547 - acc: 0.7563 - val_loss: 5.0418 - val_acc: 0.1063\n",
            "Epoch 85/100\n",
            "10/10 - 18s - loss: 0.3925 - acc: 0.8625 - val_loss: 2.1915 - val_acc: 0.5906\n",
            "Epoch 86/100\n",
            "10/10 - 17s - loss: 0.5224 - acc: 0.8125 - val_loss: 1.3567 - val_acc: 0.3688\n",
            "Epoch 87/100\n",
            "10/10 - 19s - loss: 0.4939 - acc: 0.8219 - val_loss: 5.8726 - val_acc: 0.1063\n",
            "Epoch 88/100\n",
            "10/10 - 17s - loss: 0.4347 - acc: 0.8094 - val_loss: 3.7194 - val_acc: 0.1000\n",
            "Epoch 89/100\n",
            "10/10 - 18s - loss: 0.4833 - acc: 0.8062 - val_loss: 6.7400 - val_acc: 0.0000e+00\n",
            "Epoch 90/100\n",
            "10/10 - 17s - loss: 0.5002 - acc: 0.8219 - val_loss: 4.1418 - val_acc: 0.0156\n",
            "Epoch 91/100\n",
            "10/10 - 17s - loss: 0.4509 - acc: 0.7969 - val_loss: 3.1976 - val_acc: 0.0500\n",
            "Epoch 92/100\n",
            "10/10 - 17s - loss: 0.3807 - acc: 0.8625 - val_loss: 8.4164 - val_acc: 0.0031\n",
            "Epoch 93/100\n",
            "10/10 - 18s - loss: 0.4748 - acc: 0.8000 - val_loss: 0.9426 - val_acc: 0.7312\n",
            "Epoch 94/100\n",
            "10/10 - 17s - loss: 0.4891 - acc: 0.7875 - val_loss: 0.6664 - val_acc: 0.7750\n",
            "Epoch 95/100\n",
            "10/10 - 18s - loss: 0.5138 - acc: 0.7937 - val_loss: 4.2326 - val_acc: 0.0938\n",
            "Epoch 96/100\n",
            "10/10 - 17s - loss: 0.4759 - acc: 0.7969 - val_loss: 1.6133 - val_acc: 0.3375\n",
            "Epoch 97/100\n",
            "10/10 - 17s - loss: 0.4774 - acc: 0.8031 - val_loss: 3.1861 - val_acc: 0.2781\n",
            "Epoch 98/100\n",
            "10/10 - 17s - loss: 0.4023 - acc: 0.8548 - val_loss: 2.6255 - val_acc: 0.4656\n",
            "Epoch 99/100\n",
            "10/10 - 17s - loss: 0.3799 - acc: 0.8677 - val_loss: 1.3677 - val_acc: 0.7312\n",
            "Epoch 100/100\n",
            "10/10 - 18s - loss: 0.5082 - acc: 0.7969 - val_loss: 2.5377 - val_acc: 0.4781\n"
          ]
        }
      ]
    },
    {
      "cell_type": "code",
      "metadata": {
        "colab": {
          "base_uri": "https://localhost:8080/",
          "height": 299
        },
        "id": "MLlanoNiDoT2",
        "outputId": "efd80958-3d8a-4e50-e620-949236abea18"
      },
      "source": [
        "%matplotlib inline\n",
        "import numpy as np\n",
        "import matplotlib.pyplot as plt\n",
        "plt.style.use(\"ggplot\")\n",
        "plt.figure()\n",
        "plt.plot(np.arange(0, 100), H.history[\"loss\"], label=\"train_loss\")\n",
        "plt.plot(np.arange(0, 100), H.history[\"val_loss\"], label=\"val_loss\")\n",
        "plt.title(\"Loss Plot\")\n",
        "plt.xlabel(\"Epoch #\")\n",
        "plt.ylabel(\"Loss\")\n",
        "plt.legend()\n",
        "plt.show()"
      ],
      "execution_count": 15,
      "outputs": [
        {
          "output_type": "display_data",
          "data": {
            "image/png": "[encoded data removed]",
            "text/plain": [
              "<Figure size 432x288 with 1 Axes>"
            ]
          },
          "metadata": {}
        }
      ]
    },
    {
      "cell_type": "code",
      "metadata": {
        "colab": {
          "base_uri": "https://localhost:8080/",
          "height": 299
        },
        "id": "Lj8figJHFtdT",
        "outputId": "5231e009-3c77-4778-c1e9-5f4a4530cff7"
      },
      "source": [
        "plt.style.use(\"ggplot\")\n",
        "plt.figure()\n",
        "plt.plot(np.arange(0, 100), H.history[\"acc\"], label=\"train_acc\")\n",
        "plt.plot(np.arange(0, 100), H.history[\"val_acc\"], label=\"val_acc\")\n",
        "plt.title(\"Accuracy Plot\")\n",
        "plt.xlabel(\"Epoch #\")\n",
        "plt.ylabel(\"Acc\")\n",
        "plt.legend()\n",
        "plt.show()"
      ],
      "execution_count": 16,
      "outputs": [
        {
          "output_type": "display_data",
          "data": {
            "image/png": "[encoded data removed]",
            "text/plain": [
              "<Figure size 432x288 with 1 Axes>"
            ]
          },
          "metadata": {}
        }
      ]
    },
    {
      "cell_type": "code",
      "metadata": {
        "colab": {
          "base_uri": "https://localhost:8080/"
        },
        "id": "BysF04vnRMjo",
        "outputId": "0ce07069-5651-4a7c-f94c-959b48a363ac"
      },
      "source": [
        "from sklearn.metrics import classification_report\n",
        "ypred = model.predict(test_aug)\n",
        "prediction = np.argmax(ypred, axis=1)\n",
        "print(classification_report(test_aug.classes, prediction))"
      ],
      "execution_count": 18,
      "outputs": [
        {
          "output_type": "stream",
          "name": "stdout",
          "text": [
            "              precision    recall  f1-score   support\n",
            "\n",
            "           0       0.46      0.79      0.58       106\n",
            "           1       0.72      0.35      0.47       234\n",
            "           2       0.71      0.79      0.75       390\n",
            "           3       0.60      0.59      0.59        41\n",
            "\n",
            "    accuracy                           0.65       771\n",
            "   macro avg       0.62      0.63      0.60       771\n",
            "weighted avg       0.67      0.65      0.64       771\n",
            "\n"
          ]
        }
      ]
    },
    {
      "cell_type": "code",
      "metadata": {
        "id": "yxFQ8sVV2r9m"
      },
      "source": [
        "import tensorflow as tf\n",
        "model.save('model1.h5')\n",
        "new_model = tf.keras.models.load_model('model1.h5')\n",
        "\n",
        "# Show the model architecture\n",
        "new_model.summary()"
      ],
      "execution_count": null,
      "outputs": []
    },
    {
      "cell_type": "code",
      "metadata": {
        "colab": {
          "base_uri": "https://localhost:8080/"
        },
        "id": "1DkqByrgsMHs",
        "outputId": "54032b96-e113-45e1-e276-03db68dfbd51"
      },
      "source": [
        "# TULIS KODE ANDA DISINI\n",
        "from tensorflow.keras.models import Sequential\n",
        "from tensorflow.keras.layers import InputLayer, Dense, Conv2D, MaxPool2D, Flatten, BatchNormalization, Dropout\n",
        "from tensorflow.keras.optimizers import Adam\n",
        "\n",
        "# DEFINISIKAN MODEL ANDA DISINI\n",
        "\n",
        "#Feature Selection\n",
        "model1 = Sequential()\n",
        "\n",
        "model1.add(InputLayer(input_shape=[200,200,3]))\n",
        "model1.add(Conv2D(filters=32, kernel_size=3, strides=1, padding='same', activation='relu'))\n",
        "model1.add(MaxPool2D(pool_size=2, padding='same'))\n",
        "model1.add(Conv2D(filters=64, kernel_size=3, strides=1, padding='same', activation='relu'))\n",
        "model1.add(MaxPool2D(pool_size=2, padding='same'))\n",
        "model1.add(Conv2D(filters=128, kernel_size=3, strides=1, padding='same', activation='relu'))\n",
        "model1.add(MaxPool2D(pool_size=2, padding='same'))\n",
        "model1.add(Dropout(0.25))\n",
        "model1.add(BatchNormalization())\n",
        "model1.add(Flatten())\n",
        "\n",
        "#Fully Connected Layer\n",
        "model1.add(Dense(128, activation='relu'))\n",
        "model1.add(Dropout(0.3))\n",
        "model1.add(Dense(4, activation='softmax'))\n",
        "print(model1.summary())\n"
      ],
      "execution_count": 19,
      "outputs": [
        {
          "output_type": "stream",
          "name": "stdout",
          "text": [
            "Model: \"sequential\"\n",
            "_________________________________________________________________\n",
            "Layer (type)                 Output Shape              Param #   \n",
            "=================================================================\n",
            "conv2d (Conv2D)              (None, 200, 200, 32)      896       \n",
            "_________________________________________________________________\n",
            "max_pooling2d (MaxPooling2D) (None, 100, 100, 32)      0         \n",
            "_________________________________________________________________\n",
            "conv2d_1 (Conv2D)            (None, 100, 100, 64)      18496     \n",
            "_________________________________________________________________\n",
            "max_pooling2d_1 (MaxPooling2 (None, 50, 50, 64)        0         \n",
            "_________________________________________________________________\n",
            "conv2d_2 (Conv2D)            (None, 50, 50, 128)       73856     \n",
            "_________________________________________________________________\n",
            "max_pooling2d_2 (MaxPooling2 (None, 25, 25, 128)       0         \n",
            "_________________________________________________________________\n",
            "dropout (Dropout)            (None, 25, 25, 128)       0         \n",
            "_________________________________________________________________\n",
            "batch_normalization (BatchNo (None, 25, 25, 128)       512       \n",
            "_________________________________________________________________\n",
            "flatten (Flatten)            (None, 80000)             0         \n",
            "_________________________________________________________________\n",
            "dense (Dense)                (None, 128)               10240128  \n",
            "_________________________________________________________________\n",
            "dropout_1 (Dropout)          (None, 128)               0         \n",
            "_________________________________________________________________\n",
            "dense_1 (Dense)              (None, 4)                 516       \n",
            "=================================================================\n",
            "Total params: 10,334,404\n",
            "Trainable params: 10,334,148\n",
            "Non-trainable params: 256\n",
            "_________________________________________________________________\n",
            "None\n"
          ]
        }
      ]
    },
    {
      "cell_type": "code",
      "metadata": {
        "colab": {
          "base_uri": "https://localhost:8080/"
        },
        "id": "OIYXZcP6sTTm",
        "outputId": "e5edddba-98ae-4c84-c6d3-85ff3d73b103"
      },
      "source": [
        "# Compile model\n",
        "from tensorflow.keras.optimizers import Adam\n",
        "\n",
        "model1.compile(optimizer=Adam(lr=0.00001), \n",
        "              loss='categorical_crossentropy', \n",
        "              metrics=['acc'])"
      ],
      "execution_count": 20,
      "outputs": [
        {
          "output_type": "stream",
          "name": "stderr",
          "text": [
            "/usr/local/lib/python3.7/dist-packages/keras/optimizer_v2/optimizer_v2.py:356: UserWarning: The `lr` argument is deprecated, use `learning_rate` instead.\n",
            "  \"The `lr` argument is deprecated, use `learning_rate` instead.\")\n"
          ]
        }
      ]
    },
    {
      "cell_type": "code",
      "metadata": {
        "colab": {
          "base_uri": "https://localhost:8080/"
        },
        "id": "224PQYTNsUWk",
        "outputId": "9aa28956-a6b4-494b-b22e-e79e0c75f5c9"
      },
      "source": [
        "H1 = model1.fit(train_aug,steps_per_epoch=10,  batch_size=20, epochs=100, validation_data=test_aug, validation_steps=10, verbose=2)"
      ],
      "execution_count": 21,
      "outputs": [
        {
          "output_type": "stream",
          "name": "stdout",
          "text": [
            "Epoch 1/100\n",
            "10/10 - 20s - loss: 1.4211 - acc: 0.3938 - val_loss: 1.3441 - val_acc: 0.3625\n",
            "Epoch 2/100\n",
            "10/10 - 18s - loss: 1.1544 - acc: 0.5469 - val_loss: 1.3436 - val_acc: 0.2094\n",
            "Epoch 3/100\n",
            "10/10 - 18s - loss: 1.0579 - acc: 0.5625 - val_loss: 1.3159 - val_acc: 0.5188\n",
            "Epoch 4/100\n",
            "10/10 - 18s - loss: 0.9568 - acc: 0.6062 - val_loss: 1.3080 - val_acc: 0.5781\n",
            "Epoch 5/100\n",
            "10/10 - 17s - loss: 0.9954 - acc: 0.5844 - val_loss: 1.2977 - val_acc: 0.6531\n",
            "Epoch 6/100\n",
            "10/10 - 17s - loss: 0.8223 - acc: 0.6710 - val_loss: 1.3020 - val_acc: 0.5688\n",
            "Epoch 7/100\n",
            "10/10 - 18s - loss: 0.9095 - acc: 0.6344 - val_loss: 1.3105 - val_acc: 0.3844\n",
            "Epoch 8/100\n",
            "10/10 - 18s - loss: 0.9013 - acc: 0.6531 - val_loss: 1.3037 - val_acc: 0.3562\n",
            "Epoch 9/100\n",
            "10/10 - 18s - loss: 0.8101 - acc: 0.6750 - val_loss: 1.2718 - val_acc: 0.5938\n",
            "Epoch 10/100\n",
            "10/10 - 18s - loss: 0.9498 - acc: 0.6156 - val_loss: 1.2587 - val_acc: 0.6969\n",
            "Epoch 11/100\n",
            "10/10 - 18s - loss: 0.8557 - acc: 0.6562 - val_loss: 1.2659 - val_acc: 0.6187\n",
            "Epoch 12/100\n",
            "10/10 - 17s - loss: 0.8190 - acc: 0.7000 - val_loss: 1.2642 - val_acc: 0.5031\n",
            "Epoch 13/100\n",
            "10/10 - 17s - loss: 0.7561 - acc: 0.6812 - val_loss: 1.2661 - val_acc: 0.5063\n",
            "Epoch 14/100\n",
            "10/10 - 18s - loss: 0.7175 - acc: 0.7000 - val_loss: 1.2465 - val_acc: 0.6375\n",
            "Epoch 15/100\n",
            "10/10 - 17s - loss: 0.8148 - acc: 0.6969 - val_loss: 1.2329 - val_acc: 0.6750\n",
            "Epoch 16/100\n",
            "10/10 - 18s - loss: 0.7928 - acc: 0.6719 - val_loss: 1.2415 - val_acc: 0.5250\n",
            "Epoch 17/100\n",
            "10/10 - 17s - loss: 0.6727 - acc: 0.7281 - val_loss: 1.2578 - val_acc: 0.2906\n",
            "Epoch 18/100\n",
            "10/10 - 18s - loss: 0.7544 - acc: 0.7000 - val_loss: 1.2540 - val_acc: 0.3094\n",
            "Epoch 19/100\n",
            "10/10 - 18s - loss: 0.7364 - acc: 0.7437 - val_loss: 1.2242 - val_acc: 0.4844\n",
            "Epoch 20/100\n",
            "10/10 - 19s - loss: 0.6249 - acc: 0.7375 - val_loss: 1.1781 - val_acc: 0.6500\n",
            "Epoch 21/100\n",
            "10/10 - 18s - loss: 0.7441 - acc: 0.7156 - val_loss: 1.2095 - val_acc: 0.4531\n",
            "Epoch 22/100\n",
            "10/10 - 18s - loss: 0.7347 - acc: 0.7031 - val_loss: 1.2094 - val_acc: 0.4625\n",
            "Epoch 23/100\n",
            "10/10 - 18s - loss: 0.6802 - acc: 0.7156 - val_loss: 1.2108 - val_acc: 0.4156\n",
            "Epoch 24/100\n",
            "10/10 - 18s - loss: 0.6129 - acc: 0.7437 - val_loss: 1.2049 - val_acc: 0.4375\n",
            "Epoch 25/100\n",
            "10/10 - 18s - loss: 0.6280 - acc: 0.7375 - val_loss: 1.2335 - val_acc: 0.2750\n",
            "Epoch 26/100\n",
            "10/10 - 18s - loss: 0.5975 - acc: 0.7625 - val_loss: 1.1888 - val_acc: 0.4750\n",
            "Epoch 27/100\n",
            "10/10 - 18s - loss: 0.5765 - acc: 0.7688 - val_loss: 1.1809 - val_acc: 0.4000\n",
            "Epoch 28/100\n",
            "10/10 - 18s - loss: 0.6572 - acc: 0.7500 - val_loss: 1.2013 - val_acc: 0.3156\n",
            "Epoch 29/100\n",
            "10/10 - 18s - loss: 0.6633 - acc: 0.7312 - val_loss: 1.2350 - val_acc: 0.1969\n",
            "Epoch 30/100\n",
            "10/10 - 18s - loss: 0.6493 - acc: 0.7500 - val_loss: 1.1891 - val_acc: 0.3562\n",
            "Epoch 31/100\n",
            "10/10 - 18s - loss: 0.6590 - acc: 0.7281 - val_loss: 1.1499 - val_acc: 0.4406\n",
            "Epoch 32/100\n",
            "10/10 - 18s - loss: 0.6015 - acc: 0.7563 - val_loss: 1.1829 - val_acc: 0.2844\n",
            "Epoch 33/100\n",
            "10/10 - 18s - loss: 0.5896 - acc: 0.7594 - val_loss: 1.1420 - val_acc: 0.3875\n",
            "Epoch 34/100\n",
            "10/10 - 18s - loss: 0.6225 - acc: 0.7531 - val_loss: 1.1044 - val_acc: 0.5312\n",
            "Epoch 35/100\n",
            "10/10 - 18s - loss: 0.6338 - acc: 0.7375 - val_loss: 1.1741 - val_acc: 0.3875\n",
            "Epoch 36/100\n",
            "10/10 - 17s - loss: 0.5638 - acc: 0.7935 - val_loss: 1.2005 - val_acc: 0.2750\n",
            "Epoch 37/100\n",
            "10/10 - 18s - loss: 0.6672 - acc: 0.7469 - val_loss: 1.1781 - val_acc: 0.3344\n",
            "Epoch 38/100\n",
            "10/10 - 18s - loss: 0.5562 - acc: 0.8125 - val_loss: 1.1576 - val_acc: 0.4031\n",
            "Epoch 39/100\n",
            "10/10 - 18s - loss: 0.5311 - acc: 0.8000 - val_loss: 1.1315 - val_acc: 0.4313\n",
            "Epoch 40/100\n",
            "10/10 - 18s - loss: 0.5402 - acc: 0.7906 - val_loss: 1.1973 - val_acc: 0.3250\n",
            "Epoch 41/100\n",
            "10/10 - 18s - loss: 0.5454 - acc: 0.7871 - val_loss: 1.1711 - val_acc: 0.3094\n",
            "Epoch 42/100\n",
            "10/10 - 19s - loss: 0.6081 - acc: 0.7406 - val_loss: 1.1231 - val_acc: 0.3719\n",
            "Epoch 43/100\n",
            "10/10 - 18s - loss: 0.5222 - acc: 0.8000 - val_loss: 1.0779 - val_acc: 0.4375\n",
            "Epoch 44/100\n",
            "10/10 - 18s - loss: 0.4713 - acc: 0.7875 - val_loss: 1.1725 - val_acc: 0.3031\n",
            "Epoch 45/100\n",
            "10/10 - 17s - loss: 0.6230 - acc: 0.7677 - val_loss: 1.2306 - val_acc: 0.2313\n",
            "Epoch 46/100\n",
            "10/10 - 18s - loss: 0.5468 - acc: 0.7875 - val_loss: 1.1394 - val_acc: 0.3375\n",
            "Epoch 47/100\n",
            "10/10 - 18s - loss: 0.4952 - acc: 0.8031 - val_loss: 1.0725 - val_acc: 0.4750\n",
            "Epoch 48/100\n",
            "10/10 - 17s - loss: 0.5650 - acc: 0.7906 - val_loss: 1.1484 - val_acc: 0.3406\n",
            "Epoch 49/100\n",
            "10/10 - 18s - loss: 0.4639 - acc: 0.8281 - val_loss: 1.1170 - val_acc: 0.4000\n",
            "Epoch 50/100\n",
            "10/10 - 18s - loss: 0.5674 - acc: 0.7750 - val_loss: 1.0640 - val_acc: 0.4250\n",
            "Epoch 51/100\n",
            "10/10 - 18s - loss: 0.4998 - acc: 0.8031 - val_loss: 1.0657 - val_acc: 0.4688\n",
            "Epoch 52/100\n",
            "10/10 - 19s - loss: 0.5996 - acc: 0.7563 - val_loss: 1.1391 - val_acc: 0.3875\n",
            "Epoch 53/100\n",
            "10/10 - 18s - loss: 0.4948 - acc: 0.8125 - val_loss: 1.0993 - val_acc: 0.4750\n",
            "Epoch 54/100\n",
            "10/10 - 18s - loss: 0.4914 - acc: 0.8031 - val_loss: 0.9839 - val_acc: 0.5938\n",
            "Epoch 55/100\n",
            "10/10 - 18s - loss: 0.5922 - acc: 0.7469 - val_loss: 1.2498 - val_acc: 0.3313\n",
            "Epoch 56/100\n",
            "10/10 - 18s - loss: 0.5578 - acc: 0.7844 - val_loss: 1.0309 - val_acc: 0.4969\n",
            "Epoch 57/100\n",
            "10/10 - 18s - loss: 0.5436 - acc: 0.7812 - val_loss: 1.1490 - val_acc: 0.4219\n",
            "Epoch 58/100\n",
            "10/10 - 19s - loss: 0.6366 - acc: 0.7581 - val_loss: 1.0488 - val_acc: 0.4812\n",
            "Epoch 59/100\n",
            "10/10 - 27s - loss: 0.4988 - acc: 0.8219 - val_loss: 1.0999 - val_acc: 0.4375\n",
            "Epoch 60/100\n",
            "10/10 - 18s - loss: 0.4709 - acc: 0.8250 - val_loss: 1.3826 - val_acc: 0.2469\n",
            "Epoch 61/100\n",
            "10/10 - 18s - loss: 0.5177 - acc: 0.8000 - val_loss: 1.2704 - val_acc: 0.2969\n",
            "Epoch 62/100\n",
            "10/10 - 18s - loss: 0.5150 - acc: 0.8094 - val_loss: 0.8602 - val_acc: 0.6531\n",
            "Epoch 63/100\n",
            "10/10 - 18s - loss: 0.5659 - acc: 0.7812 - val_loss: 1.1467 - val_acc: 0.3844\n",
            "Epoch 64/100\n",
            "10/10 - 18s - loss: 0.6153 - acc: 0.7719 - val_loss: 1.0397 - val_acc: 0.5063\n",
            "Epoch 65/100\n",
            "10/10 - 18s - loss: 0.5270 - acc: 0.7844 - val_loss: 0.8495 - val_acc: 0.6625\n",
            "Epoch 66/100\n",
            "10/10 - 18s - loss: 0.5189 - acc: 0.8250 - val_loss: 1.0749 - val_acc: 0.4969\n",
            "Epoch 67/100\n",
            "10/10 - 17s - loss: 0.4875 - acc: 0.8313 - val_loss: 1.4190 - val_acc: 0.2875\n",
            "Epoch 68/100\n",
            "10/10 - 18s - loss: 0.5660 - acc: 0.7625 - val_loss: 1.1560 - val_acc: 0.4250\n",
            "Epoch 69/100\n",
            "10/10 - 17s - loss: 0.4712 - acc: 0.8313 - val_loss: 0.9605 - val_acc: 0.6094\n",
            "Epoch 70/100\n",
            "10/10 - 17s - loss: 0.4686 - acc: 0.8032 - val_loss: 1.2375 - val_acc: 0.4062\n",
            "Epoch 71/100\n",
            "10/10 - 17s - loss: 0.4487 - acc: 0.8219 - val_loss: 1.3417 - val_acc: 0.3531\n",
            "Epoch 72/100\n",
            "10/10 - 17s - loss: 0.4791 - acc: 0.8062 - val_loss: 1.1216 - val_acc: 0.4563\n",
            "Epoch 73/100\n",
            "10/10 - 17s - loss: 0.4551 - acc: 0.8219 - val_loss: 0.8844 - val_acc: 0.6281\n",
            "Epoch 74/100\n",
            "10/10 - 18s - loss: 0.4821 - acc: 0.8031 - val_loss: 0.9397 - val_acc: 0.5750\n",
            "Epoch 75/100\n",
            "10/10 - 27s - loss: 0.5000 - acc: 0.8125 - val_loss: 1.0027 - val_acc: 0.5594\n",
            "Epoch 76/100\n",
            "10/10 - 18s - loss: 0.5239 - acc: 0.7937 - val_loss: 1.0466 - val_acc: 0.4906\n",
            "Epoch 77/100\n",
            "10/10 - 17s - loss: 0.4822 - acc: 0.8188 - val_loss: 0.9292 - val_acc: 0.6438\n",
            "Epoch 78/100\n",
            "10/10 - 18s - loss: 0.3786 - acc: 0.8562 - val_loss: 1.0024 - val_acc: 0.6094\n",
            "Epoch 79/100\n",
            "10/10 - 17s - loss: 0.4659 - acc: 0.8161 - val_loss: 1.5977 - val_acc: 0.3156\n",
            "Epoch 80/100\n",
            "10/10 - 17s - loss: 0.4945 - acc: 0.8031 - val_loss: 1.0552 - val_acc: 0.5469\n",
            "Epoch 81/100\n",
            "10/10 - 17s - loss: 0.5336 - acc: 0.7875 - val_loss: 0.9621 - val_acc: 0.5906\n",
            "Epoch 82/100\n",
            "10/10 - 17s - loss: 0.4178 - acc: 0.8313 - val_loss: 1.1031 - val_acc: 0.5469\n",
            "Epoch 83/100\n",
            "10/10 - 17s - loss: 0.4493 - acc: 0.8281 - val_loss: 1.2605 - val_acc: 0.4594\n",
            "Epoch 84/100\n",
            "10/10 - 17s - loss: 0.5222 - acc: 0.7937 - val_loss: 0.9189 - val_acc: 0.6094\n",
            "Epoch 85/100\n",
            "10/10 - 19s - loss: 0.4391 - acc: 0.8156 - val_loss: 1.0745 - val_acc: 0.5281\n",
            "Epoch 86/100\n",
            "10/10 - 17s - loss: 0.4985 - acc: 0.8219 - val_loss: 0.9935 - val_acc: 0.5813\n",
            "Epoch 87/100\n",
            "10/10 - 18s - loss: 0.5550 - acc: 0.7781 - val_loss: 1.1584 - val_acc: 0.4969\n",
            "Epoch 88/100\n",
            "10/10 - 17s - loss: 0.3734 - acc: 0.8281 - val_loss: 1.2163 - val_acc: 0.4625\n",
            "Epoch 89/100\n",
            "10/10 - 18s - loss: 0.5252 - acc: 0.8094 - val_loss: 1.0098 - val_acc: 0.6000\n",
            "Epoch 90/100\n",
            "10/10 - 17s - loss: 0.5085 - acc: 0.7844 - val_loss: 0.9765 - val_acc: 0.5969\n",
            "Epoch 91/100\n",
            "10/10 - 17s - loss: 0.4437 - acc: 0.8219 - val_loss: 1.0969 - val_acc: 0.5688\n",
            "Epoch 92/100\n",
            "10/10 - 18s - loss: 0.4725 - acc: 0.8188 - val_loss: 1.1040 - val_acc: 0.5375\n",
            "Epoch 93/100\n",
            "10/10 - 17s - loss: 0.4557 - acc: 0.8094 - val_loss: 1.0776 - val_acc: 0.5750\n",
            "Epoch 94/100\n",
            "10/10 - 18s - loss: 0.3953 - acc: 0.8344 - val_loss: 0.9326 - val_acc: 0.6250\n",
            "Epoch 95/100\n",
            "10/10 - 17s - loss: 0.4945 - acc: 0.7937 - val_loss: 1.3619 - val_acc: 0.4375\n",
            "Epoch 96/100\n",
            "10/10 - 18s - loss: 0.4506 - acc: 0.8000 - val_loss: 1.0592 - val_acc: 0.5844\n",
            "Epoch 97/100\n",
            "10/10 - 18s - loss: 0.3803 - acc: 0.8687 - val_loss: 1.1904 - val_acc: 0.5312\n",
            "Epoch 98/100\n",
            "10/10 - 18s - loss: 0.4969 - acc: 0.8250 - val_loss: 1.1095 - val_acc: 0.5500\n",
            "Epoch 99/100\n",
            "10/10 - 18s - loss: 0.4759 - acc: 0.8065 - val_loss: 0.9167 - val_acc: 0.6500\n",
            "Epoch 100/100\n",
            "10/10 - 18s - loss: 0.4592 - acc: 0.8406 - val_loss: 0.9845 - val_acc: 0.6250\n"
          ]
        }
      ]
    },
    {
      "cell_type": "code",
      "metadata": {
        "colab": {
          "base_uri": "https://localhost:8080/",
          "height": 299
        },
        "id": "05duG_Nxs0SQ",
        "outputId": "ee45b6bf-5cfd-482d-bfb5-31913111f8c3"
      },
      "source": [
        "%matplotlib inline\n",
        "import numpy as np\n",
        "import matplotlib.pyplot as plt\n",
        "plt.style.use(\"ggplot\")\n",
        "plt.figure()\n",
        "plt.plot(np.arange(0, 100), H1.history[\"loss\"], label=\"train_loss\")\n",
        "plt.plot(np.arange(0, 100), H1.history[\"val_loss\"], label=\"val_loss\")\n",
        "plt.title(\"Loss Plot\")\n",
        "plt.xlabel(\"Epoch #\")\n",
        "plt.ylabel(\"Loss\")\n",
        "plt.legend()\n",
        "plt.show()"
      ],
      "execution_count": 22,
      "outputs": [
        {
          "output_type": "display_data",
          "data": {
            "image/png": "[encoded data removed]",
            "text/plain": [
              "<Figure size 432x288 with 1 Axes>"
            ]
          },
          "metadata": {}
        }
      ]
    },
    {
      "cell_type": "code",
      "metadata": {
        "colab": {
          "base_uri": "https://localhost:8080/",
          "height": 299
        },
        "id": "9tGJt3Wss2IC",
        "outputId": "b93de179-71af-4fdc-9c3a-020c19caabd1"
      },
      "source": [
        "plt.style.use(\"ggplot\")\n",
        "plt.figure()\n",
        "plt.plot(np.arange(0, 100), H1.history[\"acc\"], label=\"train_acc\")\n",
        "plt.plot(np.arange(0, 100), H1.history[\"val_acc\"], label=\"val_acc\")\n",
        "plt.title(\"Accuracy Plot\")\n",
        "plt.xlabel(\"Epoch #\")\n",
        "plt.ylabel(\"Acc\")\n",
        "plt.legend()\n",
        "plt.show()"
      ],
      "execution_count": 23,
      "outputs": [
        {
          "output_type": "display_data",
          "data": {
            "image/png": "[encoded data removed]",
            "text/plain": [
              "<Figure size 432x288 with 1 Axes>"
            ]
          },
          "metadata": {}
        }
      ]
    },
    {
      "cell_type": "code",
      "metadata": {
        "colab": {
          "base_uri": "https://localhost:8080/"
        },
        "id": "Y9Hj6oGSs4YJ",
        "outputId": "8742d866-d0f7-49bb-8cbc-50510966a694"
      },
      "source": [
        "from sklearn.metrics import classification_report\n",
        "ypred = model1.predict(test_aug)\n",
        "prediction = np.argmax(ypred, axis=1)\n",
        "print(classification_report(test_aug.classes, prediction))"
      ],
      "execution_count": 26,
      "outputs": [
        {
          "output_type": "stream",
          "name": "stdout",
          "text": [
            "              precision    recall  f1-score   support\n",
            "\n",
            "           0       0.88      0.72      0.79       106\n",
            "           1       0.88      0.58      0.70       234\n",
            "           2       0.75      0.95      0.84       390\n",
            "           3       0.83      0.71      0.76        41\n",
            "\n",
            "    accuracy                           0.79       771\n",
            "   macro avg       0.83      0.74      0.77       771\n",
            "weighted avg       0.81      0.79      0.79       771\n",
            "\n"
          ]
        }
      ]
    },
    {
      "cell_type": "code",
      "metadata": {
        "id": "rhTuP0nr3gPT"
      },
      "source": [
        "import tensorflow as tf\n",
        "model1.save('model2.h5')\n",
        "new_model1 = tf.keras.models.load_model('model2.h5')\n",
        "\n",
        "# Show the model architecture\n",
        "new_model1.summary()"
      ],
      "execution_count": null,
      "outputs": []
    },
    {
      "cell_type": "code",
      "metadata": {
        "colab": {
          "base_uri": "https://localhost:8080/"
        },
        "id": "TppPzZd03wYu",
        "outputId": "dd8a64b7-f157-45d3-fb90-bc5aee7b0560"
      },
      "source": [
        "# TULIS KODE ANDA DISINI\n",
        "from tensorflow.keras.models import Sequential\n",
        "from tensorflow.keras.layers import InputLayer, Dense, Conv2D, MaxPool2D, Flatten, BatchNormalization, Dropout\n",
        "from tensorflow.keras.optimizers import Adam\n",
        "\n",
        "# DEFINISIKAN MODEL ANDA DISINI\n",
        "\n",
        "#Feature Selection\n",
        "model2 = Sequential()\n",
        "\n",
        "model2.add(InputLayer(input_shape=[200,200,3]))\n",
        "model2.add(Conv2D(filters=32, kernel_size=3, strides=1, padding='same', activation='relu'))\n",
        "model2.add(MaxPool2D(pool_size=2, padding='same'))\n",
        "model2.add(Conv2D(filters=64, kernel_size=3, strides=1, padding='same', activation='relu'))\n",
        "model2.add(MaxPool2D(pool_size=2, padding='same'))\n",
        "model2.add(Conv2D(filters=128, kernel_size=3, strides=1, padding='same', activation='relu'))\n",
        "model2.add(MaxPool2D(pool_size=2, padding='same'))\n",
        "model2.add(Dropout(0.25))\n",
        "model2.add(BatchNormalization())\n",
        "model2.add(Flatten())\n",
        "\n",
        "#Fully Connected Layer\n",
        "model2.add(Dense(128, activation='relu'))\n",
        "model2.add(Dropout(0.3))\n",
        "model2.add(Dense(4, activation='softmax'))\n",
        "print(model2.summary())\n"
      ],
      "execution_count": 31,
      "outputs": [
        {
          "output_type": "stream",
          "name": "stdout",
          "text": [
            "Model: \"sequential_2\"\n",
            "_________________________________________________________________\n",
            "Layer (type)                 Output Shape              Param #   \n",
            "=================================================================\n",
            "conv2d_6 (Conv2D)            (None, 200, 200, 32)      896       \n",
            "_________________________________________________________________\n",
            "max_pooling2d_6 (MaxPooling2 (None, 100, 100, 32)      0         \n",
            "_________________________________________________________________\n",
            "conv2d_7 (Conv2D)            (None, 100, 100, 64)      18496     \n",
            "_________________________________________________________________\n",
            "max_pooling2d_7 (MaxPooling2 (None, 50, 50, 64)        0         \n",
            "_________________________________________________________________\n",
            "conv2d_8 (Conv2D)            (None, 50, 50, 128)       73856     \n",
            "_________________________________________________________________\n",
            "max_pooling2d_8 (MaxPooling2 (None, 25, 25, 128)       0         \n",
            "_________________________________________________________________\n",
            "dropout_4 (Dropout)          (None, 25, 25, 128)       0         \n",
            "_________________________________________________________________\n",
            "batch_normalization_2 (Batch (None, 25, 25, 128)       512       \n",
            "_________________________________________________________________\n",
            "flatten_2 (Flatten)          (None, 80000)             0         \n",
            "_________________________________________________________________\n",
            "dense_4 (Dense)              (None, 128)               10240128  \n",
            "_________________________________________________________________\n",
            "dropout_5 (Dropout)          (None, 128)               0         \n",
            "_________________________________________________________________\n",
            "dense_5 (Dense)              (None, 4)                 516       \n",
            "=================================================================\n",
            "Total params: 10,334,404\n",
            "Trainable params: 10,334,148\n",
            "Non-trainable params: 256\n",
            "_________________________________________________________________\n",
            "None\n"
          ]
        }
      ]
    },
    {
      "cell_type": "code",
      "metadata": {
        "colab": {
          "base_uri": "https://localhost:8080/"
        },
        "id": "7SlZwFOF4I0G",
        "outputId": "4b7210f0-b7e2-4949-98c7-5d3b9c24c56a"
      },
      "source": [
        "# Compile model\n",
        "from tensorflow.keras.optimizers import Adam\n",
        "\n",
        "model2.compile(optimizer=Adam(lr=0.0000001), \n",
        "              loss='categorical_crossentropy', \n",
        "              metrics=['acc'])"
      ],
      "execution_count": 32,
      "outputs": [
        {
          "output_type": "stream",
          "name": "stderr",
          "text": [
            "/usr/local/lib/python3.7/dist-packages/keras/optimizer_v2/optimizer_v2.py:356: UserWarning: The `lr` argument is deprecated, use `learning_rate` instead.\n",
            "  \"The `lr` argument is deprecated, use `learning_rate` instead.\")\n"
          ]
        }
      ]
    },
    {
      "cell_type": "code",
      "metadata": {
        "colab": {
          "base_uri": "https://localhost:8080/"
        },
        "id": "h-X6mxhl4L--",
        "outputId": "9e72bb69-b522-4e23-e2c4-0285a81be361"
      },
      "source": [
        "H2 = model2.fit(train_aug,steps_per_epoch=10,  batch_size=20, epochs=100, validation_data=test_aug, validation_steps=10, verbose=2)"
      ],
      "execution_count": 33,
      "outputs": [
        {
          "output_type": "stream",
          "name": "stdout",
          "text": [
            "Epoch 1/100\n",
            "10/10 - 21s - loss: 1.4682 - acc: 0.3438 - val_loss: 1.4233 - val_acc: 0.0156\n",
            "Epoch 2/100\n",
            "10/10 - 18s - loss: 1.4399 - acc: 0.3750 - val_loss: 1.4221 - val_acc: 0.0125\n",
            "Epoch 3/100\n",
            "10/10 - 17s - loss: 1.4042 - acc: 0.3871 - val_loss: 1.4214 - val_acc: 0.0063\n",
            "Epoch 4/100\n",
            "10/10 - 18s - loss: 1.3875 - acc: 0.3812 - val_loss: 1.4219 - val_acc: 0.0250\n",
            "Epoch 5/100\n",
            "10/10 - 17s - loss: 1.3667 - acc: 0.4437 - val_loss: 1.4199 - val_acc: 0.0312\n",
            "Epoch 6/100\n",
            "10/10 - 18s - loss: 1.4678 - acc: 0.3344 - val_loss: 1.4187 - val_acc: 0.0312\n",
            "Epoch 7/100\n",
            "10/10 - 17s - loss: 1.4063 - acc: 0.3562 - val_loss: 1.4178 - val_acc: 0.0406\n",
            "Epoch 8/100\n",
            "10/10 - 17s - loss: 1.3155 - acc: 0.4156 - val_loss: 1.4197 - val_acc: 0.0562\n",
            "Epoch 9/100\n",
            "10/10 - 17s - loss: 1.3413 - acc: 0.4094 - val_loss: 1.4176 - val_acc: 0.0406\n",
            "Epoch 10/100\n",
            "10/10 - 18s - loss: 1.3336 - acc: 0.4375 - val_loss: 1.4184 - val_acc: 0.0375\n",
            "Epoch 11/100\n",
            "10/10 - 18s - loss: 1.3437 - acc: 0.4000 - val_loss: 1.4165 - val_acc: 0.0406\n",
            "Epoch 12/100\n",
            "10/10 - 18s - loss: 1.4018 - acc: 0.4125 - val_loss: 1.4184 - val_acc: 0.0437\n",
            "Epoch 13/100\n",
            "10/10 - 18s - loss: 1.3533 - acc: 0.4156 - val_loss: 1.4113 - val_acc: 0.0594\n",
            "Epoch 14/100\n",
            "10/10 - 18s - loss: 1.2434 - acc: 0.4812 - val_loss: 1.4142 - val_acc: 0.0625\n",
            "Epoch 15/100\n",
            "10/10 - 17s - loss: 1.3274 - acc: 0.4094 - val_loss: 1.4125 - val_acc: 0.0688\n",
            "Epoch 16/100\n",
            "10/10 - 17s - loss: 1.4464 - acc: 0.3875 - val_loss: 1.4137 - val_acc: 0.0812\n",
            "Epoch 17/100\n",
            "10/10 - 17s - loss: 1.3638 - acc: 0.3875 - val_loss: 1.4204 - val_acc: 0.0375\n",
            "Epoch 18/100\n",
            "10/10 - 17s - loss: 1.2376 - acc: 0.4844 - val_loss: 1.4251 - val_acc: 0.0562\n",
            "Epoch 19/100\n",
            "10/10 - 17s - loss: 1.2695 - acc: 0.4250 - val_loss: 1.4195 - val_acc: 0.0594\n",
            "Epoch 20/100\n",
            "10/10 - 19s - loss: 1.2803 - acc: 0.4500 - val_loss: 1.4178 - val_acc: 0.0750\n",
            "Epoch 21/100\n",
            "10/10 - 18s - loss: 1.3165 - acc: 0.4344 - val_loss: 1.4203 - val_acc: 0.0562\n",
            "Epoch 22/100\n",
            "10/10 - 18s - loss: 1.2363 - acc: 0.4625 - val_loss: 1.4164 - val_acc: 0.0688\n",
            "Epoch 23/100\n",
            "10/10 - 18s - loss: 1.3852 - acc: 0.3969 - val_loss: 1.4251 - val_acc: 0.0437\n",
            "Epoch 24/100\n",
            "10/10 - 18s - loss: 1.3626 - acc: 0.4250 - val_loss: 1.4252 - val_acc: 0.0562\n",
            "Epoch 25/100\n",
            "10/10 - 18s - loss: 1.2652 - acc: 0.4812 - val_loss: 1.4206 - val_acc: 0.0562\n",
            "Epoch 26/100\n",
            "10/10 - 18s - loss: 1.3406 - acc: 0.4656 - val_loss: 1.4224 - val_acc: 0.0875\n",
            "Epoch 27/100\n",
            "10/10 - 17s - loss: 1.2523 - acc: 0.4719 - val_loss: 1.4252 - val_acc: 0.0344\n",
            "Epoch 28/100\n",
            "10/10 - 19s - loss: 1.3370 - acc: 0.4125 - val_loss: 1.4293 - val_acc: 0.0500\n",
            "Epoch 29/100\n",
            "10/10 - 18s - loss: 1.3025 - acc: 0.4563 - val_loss: 1.4181 - val_acc: 0.0562\n",
            "Epoch 30/100\n",
            "10/10 - 17s - loss: 1.3508 - acc: 0.4000 - val_loss: 1.4293 - val_acc: 0.0656\n",
            "Epoch 31/100\n",
            "10/10 - 17s - loss: 1.1785 - acc: 0.5188 - val_loss: 1.4216 - val_acc: 0.0594\n",
            "Epoch 32/100\n",
            "10/10 - 18s - loss: 1.2706 - acc: 0.4875 - val_loss: 1.4239 - val_acc: 0.0688\n",
            "Epoch 33/100\n",
            "10/10 - 17s - loss: 1.2865 - acc: 0.4938 - val_loss: 1.4284 - val_acc: 0.0625\n",
            "Epoch 34/100\n",
            "10/10 - 17s - loss: 1.1693 - acc: 0.5437 - val_loss: 1.4321 - val_acc: 0.0594\n",
            "Epoch 35/100\n",
            "10/10 - 17s - loss: 1.2225 - acc: 0.4938 - val_loss: 1.4338 - val_acc: 0.0781\n",
            "Epoch 36/100\n",
            "10/10 - 17s - loss: 1.2848 - acc: 0.4437 - val_loss: 1.4272 - val_acc: 0.0562\n",
            "Epoch 37/100\n",
            "10/10 - 17s - loss: 1.2271 - acc: 0.5094 - val_loss: 1.4366 - val_acc: 0.0594\n",
            "Epoch 38/100\n",
            "10/10 - 17s - loss: 1.1957 - acc: 0.5000 - val_loss: 1.4455 - val_acc: 0.0437\n",
            "Epoch 39/100\n",
            "10/10 - 17s - loss: 1.1178 - acc: 0.5437 - val_loss: 1.4476 - val_acc: 0.0250\n",
            "Epoch 40/100\n",
            "10/10 - 17s - loss: 1.2172 - acc: 0.5063 - val_loss: 1.4501 - val_acc: 0.0406\n",
            "Epoch 41/100\n",
            "10/10 - 17s - loss: 1.1960 - acc: 0.5323 - val_loss: 1.4438 - val_acc: 0.0344\n",
            "Epoch 42/100\n",
            "10/10 - 18s - loss: 1.2559 - acc: 0.5063 - val_loss: 1.4477 - val_acc: 0.0312\n",
            "Epoch 43/100\n",
            "10/10 - 18s - loss: 1.1608 - acc: 0.5188 - val_loss: 1.4520 - val_acc: 0.0406\n",
            "Epoch 44/100\n",
            "10/10 - 18s - loss: 1.2220 - acc: 0.5031 - val_loss: 1.4542 - val_acc: 0.0281\n",
            "Epoch 45/100\n",
            "10/10 - 17s - loss: 1.1898 - acc: 0.5281 - val_loss: 1.4569 - val_acc: 0.0219\n",
            "Epoch 46/100\n",
            "10/10 - 18s - loss: 1.1523 - acc: 0.5031 - val_loss: 1.4557 - val_acc: 0.0406\n",
            "Epoch 47/100\n",
            "10/10 - 18s - loss: 1.1916 - acc: 0.5219 - val_loss: 1.4556 - val_acc: 0.0344\n",
            "Epoch 48/100\n",
            "10/10 - 18s - loss: 1.1249 - acc: 0.5969 - val_loss: 1.4902 - val_acc: 0.0219\n",
            "Epoch 49/100\n",
            "10/10 - 17s - loss: 1.2217 - acc: 0.5188 - val_loss: 1.4662 - val_acc: 0.0063\n",
            "Epoch 50/100\n",
            "10/10 - 18s - loss: 1.1545 - acc: 0.5484 - val_loss: 1.4752 - val_acc: 0.0312\n",
            "Epoch 51/100\n",
            "10/10 - 17s - loss: 1.1977 - acc: 0.5156 - val_loss: 1.4834 - val_acc: 0.0188\n",
            "Epoch 52/100\n",
            "10/10 - 18s - loss: 1.2997 - acc: 0.4594 - val_loss: 1.4929 - val_acc: 0.0312\n",
            "Epoch 53/100\n",
            "10/10 - 18s - loss: 1.2730 - acc: 0.4903 - val_loss: 1.4893 - val_acc: 0.0156\n",
            "Epoch 54/100\n",
            "10/10 - 18s - loss: 1.1964 - acc: 0.5375 - val_loss: 1.5022 - val_acc: 0.0281\n",
            "Epoch 55/100\n",
            "10/10 - 18s - loss: 1.1679 - acc: 0.5594 - val_loss: 1.4915 - val_acc: 0.0312\n",
            "Epoch 56/100\n",
            "10/10 - 17s - loss: 1.1180 - acc: 0.5531 - val_loss: 1.5185 - val_acc: 0.0063\n",
            "Epoch 57/100\n",
            "10/10 - 18s - loss: 1.1650 - acc: 0.5406 - val_loss: 1.5114 - val_acc: 0.0344\n",
            "Epoch 58/100\n",
            "10/10 - 18s - loss: 1.1710 - acc: 0.5250 - val_loss: 1.5482 - val_acc: 0.0281\n",
            "Epoch 59/100\n",
            "10/10 - 18s - loss: 1.2199 - acc: 0.5194 - val_loss: 1.5268 - val_acc: 0.0250\n",
            "Epoch 60/100\n",
            "10/10 - 17s - loss: 1.1448 - acc: 0.5719 - val_loss: 1.5149 - val_acc: 0.0219\n",
            "Epoch 61/100\n",
            "10/10 - 18s - loss: 1.1630 - acc: 0.5406 - val_loss: 1.5459 - val_acc: 0.0156\n",
            "Epoch 62/100\n",
            "10/10 - 18s - loss: 1.1372 - acc: 0.5188 - val_loss: 1.5532 - val_acc: 0.0125\n",
            "Epoch 63/100\n",
            "10/10 - 18s - loss: 1.1413 - acc: 0.5437 - val_loss: 1.5476 - val_acc: 0.0094\n",
            "Epoch 64/100\n",
            "10/10 - 17s - loss: 1.2134 - acc: 0.5375 - val_loss: 1.5496 - val_acc: 0.0188\n",
            "Epoch 65/100\n",
            "10/10 - 18s - loss: 1.1527 - acc: 0.5469 - val_loss: 1.5704 - val_acc: 0.0125\n",
            "Epoch 66/100\n",
            "10/10 - 18s - loss: 1.1592 - acc: 0.5344 - val_loss: 1.5417 - val_acc: 0.0312\n",
            "Epoch 67/100\n",
            "10/10 - 18s - loss: 1.1662 - acc: 0.5344 - val_loss: 1.5862 - val_acc: 0.0125\n",
            "Epoch 68/100\n",
            "10/10 - 18s - loss: 1.1767 - acc: 0.5531 - val_loss: 1.5864 - val_acc: 0.0156\n",
            "Epoch 69/100\n",
            "10/10 - 18s - loss: 1.1913 - acc: 0.5250 - val_loss: 1.5812 - val_acc: 0.0188\n",
            "Epoch 70/100\n",
            "10/10 - 18s - loss: 1.1303 - acc: 0.5437 - val_loss: 1.5874 - val_acc: 0.0031\n",
            "Epoch 71/100\n",
            "10/10 - 19s - loss: 1.1778 - acc: 0.5375 - val_loss: 1.5940 - val_acc: 0.0031\n",
            "Epoch 72/100\n",
            "10/10 - 18s - loss: 1.1198 - acc: 0.5500 - val_loss: 1.6159 - val_acc: 0.0125\n",
            "Epoch 73/100\n",
            "10/10 - 18s - loss: 1.1152 - acc: 0.5594 - val_loss: 1.5876 - val_acc: 0.0156\n",
            "Epoch 74/100\n",
            "10/10 - 17s - loss: 1.1622 - acc: 0.5406 - val_loss: 1.6062 - val_acc: 0.0125\n",
            "Epoch 75/100\n",
            "10/10 - 17s - loss: 1.1343 - acc: 0.5750 - val_loss: 1.6099 - val_acc: 0.0125\n",
            "Epoch 76/100\n",
            "10/10 - 17s - loss: 1.0961 - acc: 0.5813 - val_loss: 1.6375 - val_acc: 0.0063\n",
            "Epoch 77/100\n",
            "10/10 - 17s - loss: 1.1390 - acc: 0.5813 - val_loss: 1.6272 - val_acc: 0.0125\n",
            "Epoch 78/100\n",
            "10/10 - 18s - loss: 1.1295 - acc: 0.5531 - val_loss: 1.6300 - val_acc: 0.0094\n",
            "Epoch 79/100\n",
            "10/10 - 18s - loss: 1.1847 - acc: 0.5344 - val_loss: 1.6159 - val_acc: 0.0031\n",
            "Epoch 80/100\n",
            "10/10 - 17s - loss: 1.1200 - acc: 0.5781 - val_loss: 1.6289 - val_acc: 0.0094\n",
            "Epoch 81/100\n",
            "10/10 - 17s - loss: 1.1848 - acc: 0.5031 - val_loss: 1.6526 - val_acc: 0.0063\n",
            "Epoch 82/100\n",
            "10/10 - 18s - loss: 1.0836 - acc: 0.5938 - val_loss: 1.6296 - val_acc: 0.0063\n",
            "Epoch 83/100\n",
            "10/10 - 18s - loss: 1.0788 - acc: 0.5562 - val_loss: 1.6595 - val_acc: 0.0031\n",
            "Epoch 84/100\n",
            "10/10 - 17s - loss: 1.0954 - acc: 0.5594 - val_loss: 1.6531 - val_acc: 0.0156\n",
            "Epoch 85/100\n",
            "10/10 - 17s - loss: 1.1384 - acc: 0.5312 - val_loss: 1.6894 - val_acc: 0.0094\n",
            "Epoch 86/100\n",
            "10/10 - 17s - loss: 1.1350 - acc: 0.5562 - val_loss: 1.6543 - val_acc: 0.0094\n",
            "Epoch 87/100\n",
            "10/10 - 17s - loss: 1.0723 - acc: 0.5719 - val_loss: 1.6456 - val_acc: 0.0125\n",
            "Epoch 88/100\n",
            "10/10 - 18s - loss: 1.1030 - acc: 0.5500 - val_loss: 1.6605 - val_acc: 0.0094\n",
            "Epoch 89/100\n",
            "10/10 - 17s - loss: 1.1075 - acc: 0.5406 - val_loss: 1.6414 - val_acc: 0.0094\n",
            "Epoch 90/100\n",
            "10/10 - 18s - loss: 1.0859 - acc: 0.5969 - val_loss: 1.6477 - val_acc: 0.0125\n",
            "Epoch 91/100\n",
            "10/10 - 18s - loss: 1.1752 - acc: 0.5188 - val_loss: 1.6611 - val_acc: 0.0063\n",
            "Epoch 92/100\n",
            "10/10 - 18s - loss: 1.1043 - acc: 0.5719 - val_loss: 1.6896 - val_acc: 0.0063\n",
            "Epoch 93/100\n",
            "10/10 - 18s - loss: 1.0670 - acc: 0.5750 - val_loss: 1.6316 - val_acc: 0.0094\n",
            "Epoch 94/100\n",
            "10/10 - 18s - loss: 1.1879 - acc: 0.5312 - val_loss: 1.6547 - val_acc: 0.0094\n",
            "Epoch 95/100\n",
            "10/10 - 18s - loss: 1.0921 - acc: 0.5250 - val_loss: 1.6941 - val_acc: 0.0000e+00\n",
            "Epoch 96/100\n",
            "10/10 - 18s - loss: 1.1275 - acc: 0.5406 - val_loss: 1.6758 - val_acc: 0.0125\n",
            "Epoch 97/100\n",
            "10/10 - 18s - loss: 1.0562 - acc: 0.5844 - val_loss: 1.6607 - val_acc: 0.0063\n",
            "Epoch 98/100\n",
            "10/10 - 18s - loss: 1.1016 - acc: 0.5688 - val_loss: 1.6442 - val_acc: 0.0094\n",
            "Epoch 99/100\n",
            "10/10 - 18s - loss: 1.1148 - acc: 0.5906 - val_loss: 1.6495 - val_acc: 0.0063\n",
            "Epoch 100/100\n",
            "10/10 - 18s - loss: 1.1585 - acc: 0.5094 - val_loss: 1.6530 - val_acc: 0.0063\n"
          ]
        }
      ]
    },
    {
      "cell_type": "code",
      "metadata": {
        "colab": {
          "base_uri": "https://localhost:8080/",
          "height": 299
        },
        "id": "y8lrpF6e4TEC",
        "outputId": "6d8fc69a-4beb-4470-acbc-9e889dfee20e"
      },
      "source": [
        "%matplotlib inline\n",
        "import numpy as np\n",
        "import matplotlib.pyplot as plt\n",
        "plt.style.use(\"ggplot\")\n",
        "plt.figure()\n",
        "plt.plot(np.arange(0, 100), H2.history[\"loss\"], label=\"train_loss\")\n",
        "plt.plot(np.arange(0, 100), H2.history[\"val_loss\"], label=\"val_loss\")\n",
        "plt.title(\"Loss Plot\")\n",
        "plt.xlabel(\"Epoch #\")\n",
        "plt.ylabel(\"Loss\")\n",
        "plt.legend()\n",
        "plt.show()"
      ],
      "execution_count": 34,
      "outputs": [
        {
          "output_type": "display_data",
          "data": {
            "image/png": "[encoded data removed]",
            "text/plain": [
              "<Figure size 432x288 with 1 Axes>"
            ]
          },
          "metadata": {}
        }
      ]
    },
    {
      "cell_type": "code",
      "metadata": {
        "colab": {
          "base_uri": "https://localhost:8080/",
          "height": 299
        },
        "id": "rFtIIcSO4V9g",
        "outputId": "a5e65cbd-a90d-4959-ae67-589af540d598"
      },
      "source": [
        "plt.style.use(\"ggplot\")\n",
        "plt.figure()\n",
        "plt.plot(np.arange(0, 100), H2.history[\"acc\"], label=\"train_acc\")\n",
        "plt.plot(np.arange(0, 100), H2.history[\"val_acc\"], label=\"val_acc\")\n",
        "plt.title(\"Accuracy Plot\")\n",
        "plt.xlabel(\"Epoch #\")\n",
        "plt.ylabel(\"Acc\")\n",
        "plt.legend()\n",
        "plt.show()"
      ],
      "execution_count": 35,
      "outputs": [
        {
          "output_type": "display_data",
          "data": {
            "image/png": "[encoded data removed]",
            "text/plain": [
              "<Figure size 432x288 with 1 Axes>"
            ]
          },
          "metadata": {}
        }
      ]
    },
    {
      "cell_type": "code",
      "metadata": {
        "colab": {
          "base_uri": "https://localhost:8080/"
        },
        "id": "GshubO7R4YjN",
        "outputId": "836bbe0b-6794-4330-a4b0-f8fb4a33674e"
      },
      "source": [
        "from sklearn.metrics import classification_report\n",
        "ypred = model2.predict(test_aug)\n",
        "prediction = np.argmax(ypred, axis=1)\n",
        "print(classification_report(test_aug.classes, prediction))"
      ],
      "execution_count": 36,
      "outputs": [
        {
          "output_type": "stream",
          "name": "stdout",
          "text": [
            "              precision    recall  f1-score   support\n",
            "\n",
            "           0       0.50      0.01      0.02       106\n",
            "           1       0.67      0.01      0.02       234\n",
            "           2       0.51      0.99      0.68       390\n",
            "           3       0.80      0.20      0.31        41\n",
            "\n",
            "    accuracy                           0.52       771\n",
            "   macro avg       0.62      0.30      0.26       771\n",
            "weighted avg       0.57      0.52      0.37       771\n",
            "\n"
          ]
        }
      ]
    },
    {
      "cell_type": "code",
      "metadata": {
        "colab": {
          "base_uri": "https://localhost:8080/"
        },
        "id": "YXi5DxiA4bmS",
        "outputId": "7b52051a-e3ad-48dd-b130-717a1b25292a"
      },
      "source": [
        "import tensorflow as tf\n",
        "model2.save('model3.h5')\n",
        "new_model2 = tf.keras.models.load_model('model3.h5')\n",
        "\n",
        "# Show the model architecture\n",
        "new_model2.summary()"
      ],
      "execution_count": 37,
      "outputs": [
        {
          "output_type": "stream",
          "name": "stdout",
          "text": [
            "Model: \"sequential_2\"\n",
            "_________________________________________________________________\n",
            "Layer (type)                 Output Shape              Param #   \n",
            "=================================================================\n",
            "conv2d_6 (Conv2D)            (None, 200, 200, 32)      896       \n",
            "_________________________________________________________________\n",
            "max_pooling2d_6 (MaxPooling2 (None, 100, 100, 32)      0         \n",
            "_________________________________________________________________\n",
            "conv2d_7 (Conv2D)            (None, 100, 100, 64)      18496     \n",
            "_________________________________________________________________\n",
            "max_pooling2d_7 (MaxPooling2 (None, 50, 50, 64)        0         \n",
            "_________________________________________________________________\n",
            "conv2d_8 (Conv2D)            (None, 50, 50, 128)       73856     \n",
            "_________________________________________________________________\n",
            "max_pooling2d_8 (MaxPooling2 (None, 25, 25, 128)       0         \n",
            "_________________________________________________________________\n",
            "dropout_4 (Dropout)          (None, 25, 25, 128)       0         \n",
            "_________________________________________________________________\n",
            "batch_normalization_2 (Batch (None, 25, 25, 128)       512       \n",
            "_________________________________________________________________\n",
            "flatten_2 (Flatten)          (None, 80000)             0         \n",
            "_________________________________________________________________\n",
            "dense_4 (Dense)              (None, 128)               10240128  \n",
            "_________________________________________________________________\n",
            "dropout_5 (Dropout)          (None, 128)               0         \n",
            "_________________________________________________________________\n",
            "dense_5 (Dense)              (None, 4)                 516       \n",
            "=================================================================\n",
            "Total params: 10,334,404\n",
            "Trainable params: 10,334,148\n",
            "Non-trainable params: 256\n",
            "_________________________________________________________________\n"
          ]
        }
      ]
    }
  ]
}