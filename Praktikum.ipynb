{
  "nbformat": 4,
  "nbformat_minor": 0,
  "metadata": {
    "colab": {
      "name": "Praktikum.ipynb",
      "provenance": [],
      "collapsed_sections": []
    },
    "kernelspec": {
      "name": "python3",
      "display_name": "Python 3"
    },
    "language_info": {
      "name": "python"
    }
  },
  "cells": [
    {
      "cell_type": "code",
      "metadata": {
        "colab": {
          "base_uri": "https://localhost:8080/"
        },
        "id": "OLidCrBbSH5h",
        "outputId": "cd607c8d-71fb-4e6f-d1ed-ec4972cc3d40"
      },
      "source": [
        "from google.colab import drive\n",
        "drive.mount(\"/content/gdrive\", force_remount=True)"
      ],
      "execution_count": null,
      "outputs": [
        {
          "output_type": "stream",
          "name": "stdout",
          "text": [
            "Mounted at /content/gdrive\n"
          ]
        }
      ]
    },
    {
      "cell_type": "code",
      "metadata": {
        "colab": {
          "base_uri": "https://localhost:8080/"
        },
        "id": "NT6o_PwlVfnn",
        "outputId": "0d2a9dc1-ede7-4912-a234-ea6d62d9b46b"
      },
      "source": [
        "!pip install kaggle"
      ],
      "execution_count": null,
      "outputs": [
        {
          "output_type": "stream",
          "name": "stdout",
          "text": [
            "Requirement already satisfied: kaggle in /usr/local/lib/python3.7/dist-packages (1.5.12)\n",
            "Requirement already satisfied: requests in /usr/local/lib/python3.7/dist-packages (from kaggle) (2.23.0)\n",
            "Requirement already satisfied: python-slugify in /usr/local/lib/python3.7/dist-packages (from kaggle) (5.0.2)\n",
            "Requirement already satisfied: python-dateutil in /usr/local/lib/python3.7/dist-packages (from kaggle) (2.8.2)\n",
            "Requirement already satisfied: urllib3 in /usr/local/lib/python3.7/dist-packages (from kaggle) (1.24.3)\n",
            "Requirement already satisfied: six>=1.10 in /usr/local/lib/python3.7/dist-packages (from kaggle) (1.15.0)\n",
            "Requirement already satisfied: tqdm in /usr/local/lib/python3.7/dist-packages (from kaggle) (4.62.3)\n",
            "Requirement already satisfied: certifi in /usr/local/lib/python3.7/dist-packages (from kaggle) (2021.5.30)\n",
            "Requirement already satisfied: text-unidecode>=1.3 in /usr/local/lib/python3.7/dist-packages (from python-slugify->kaggle) (1.3)\n",
            "Requirement already satisfied: idna<3,>=2.5 in /usr/local/lib/python3.7/dist-packages (from requests->kaggle) (2.10)\n",
            "Requirement already satisfied: chardet<4,>=3.0.2 in /usr/local/lib/python3.7/dist-packages (from requests->kaggle) (3.0.4)\n"
          ]
        }
      ]
    },
    {
      "cell_type": "code",
      "metadata": {
        "colab": {
          "base_uri": "https://localhost:8080/"
        },
        "id": "DdS900v_Vhxg",
        "outputId": "971752a3-17c1-4406-d5a0-34ea2d476fdd"
      },
      "source": [
        "%cd /content/gdrive/MyDrive/content/sample_data/"
      ],
      "execution_count": null,
      "outputs": [
        {
          "output_type": "stream",
          "name": "stdout",
          "text": [
            "[Errno 2] No such file or directory: '/content/gdrive/MyDrive/content/sample_data/'\n",
            "/content\n"
          ]
        }
      ]
    },
    {
      "cell_type": "code",
      "metadata": {
        "id": "To7VBDpjVm79"
      },
      "source": [
        "import os\n",
        "os.environ['KAGGLE_CONFIG_DIR'] = \"/content/sample_data/\""
      ],
      "execution_count": null,
      "outputs": []
    },
    {
      "cell_type": "code",
      "metadata": {
        "id": "BHKCIYjVVoNW"
      },
      "source": [
        "# jika anda ingin menggunakan kaggle API untuk mengunduh dataset gunakan\n",
        "# kode berikut untuk membantu anda membuat config kaggle.json\n",
        "# pastikan anda mendaftar akun kaggle terlebih dahulu\n",
        "# kemudian menuju halaman my account dan buat token API anda\n",
        "\n",
        "api_token = {\"username\":\"bibitpamungkas\",\"key\":\"0b4a500fd9a858ee152de296398002ab\"}\n",
        "import json\n",
        "import zipfile\n",
        "import os\n",
        "with open('/content/sample_data/kaggle.json', 'w') as file:\n",
        "    json.dump(api_token, file)\n",
        "!chmod 600 /content/sample_data/kaggle.json"
      ],
      "execution_count": null,
      "outputs": []
    },
    {
      "cell_type": "code",
      "metadata": {
        "colab": {
          "base_uri": "https://localhost:8080/"
        },
        "id": "6GLqIFi7VtBq",
        "outputId": "49337d64-1618-4ca2-997c-2a00c4cb1bdd"
      },
      "source": [
        "!kaggle datasets download -d snish9/rsnabrats20212d"
      ],
      "execution_count": null,
      "outputs": [
        {
          "output_type": "stream",
          "name": "stdout",
          "text": [
            "rsnabrats20212d.zip: Skipping, found more recently modified local copy (use --force to force download)\n"
          ]
        }
      ]
    },
    {
      "cell_type": "code",
      "metadata": {
        "id": "VN5_ChJdWesQ"
      },
      "source": [
        "# Ekstrak dataset\n",
        "\n",
        "import os\n",
        "import zipfile\n",
        "\n",
        "local_zip = '/content/rsnabrats20212d.zip'\n",
        "zip_ref = zipfile.ZipFile(local_zip, 'r')\n",
        "zip_ref.extractall('/content/sample_data/')\n",
        "zip_ref.close()"
      ],
      "execution_count": null,
      "outputs": []
    },
    {
      "cell_type": "code",
      "metadata": {
        "colab": {
          "base_uri": "https://localhost:8080/",
          "height": 346
        },
        "id": "hGdy-2QgWjFk",
        "outputId": "a192eb0e-8e37-486b-e02b-ca5cb18f3cf8"
      },
      "source": [
        "#When splitting a dataset there are two competing concerns:\n",
        "#-If you have less training data, your parameter estimates have greater variance.\n",
        "#-And if you have less testing data, your performance statistic will have greater variance.\n",
        "\n",
        "import shutil\n",
        "\n",
        "base_dir = '/content/sample_data/'\n",
        "\n",
        "#flair\n",
        "flair_dataset = '/content/sample_data/flair'\n",
        "os.makedirs('/content/sample_data/train/flair')\n",
        "os.makedirs('/content/sample_data/validation/flair')\n",
        "\n",
        "train = os.path.join(base_dir,'train')\n",
        "validation = os.path.join(base_dir,'validation')\n",
        "\n",
        "flair_tr = os.path.join(train,'flair')\n",
        "flair_va = os.path.join(validation,'flair')\n",
        "\n",
        "    #80% data training\n",
        "flair_dataset1 = os.listdir(flair_dataset)\n",
        "for file in flair_dataset1[0:int(len(flair_dataset1) * .8)]:\n",
        "  new_path = shutil.move(f\"{flair_dataset}/{file}\",flair_tr)\n",
        "\n",
        "    #20 data validation\n",
        "flair_dataset2 = os.listdir(flair_dataset)\n",
        "for file in flair_dataset2:\n",
        "  new_path = shutil.move(f\"{flair_dataset}/{file}\",flair_va)\n",
        "\n",
        "#t1\n",
        "t1_dataset = '/content/sample_data/t1'\n",
        "os.makedirs('/content/sample_data/train/t1')\n",
        "os.makedirs('/content/sample_data/validation/t1')\n",
        "\n",
        "t1_tr = os.path.join(train,'t1')\n",
        "t1_va = os.path.join(validation,'t1')\n",
        "\n",
        " #80% data training\n",
        "t1_dataset1 = os.listdir(t1_dataset)\n",
        "for file in t1_dataset1[0:int(len(t1_dataset1) * .8)]:\n",
        "  new_path = shutil.move(f\"{t1_dataset}/{file}\",t1_tr)\n",
        "\n",
        "    #20 data validation\n",
        "t1_dataset2 = os.listdir(t1_dataset)\n",
        "for file in t1_dataset2:\n",
        "  new_path = shutil.move(f\"{t1_dataset}/{file}\",t1_va)\n",
        "\n",
        "#t1ce\n",
        "t1ce_dataset = '/content/sample_data/t1ce'\n",
        "os.makedirs('/content/sample_data/train/t1ce')\n",
        "os.makedirs('/content/sample_data/validation/t1ce')\n",
        "\n",
        "t1ce_tr = os.path.join(train,'t1ce')\n",
        "t1ce_va = os.path.join(validation,'t1ce')\n",
        "\n",
        " #80% data training\n",
        "t1ce_dataset1 = os.listdir(t1ce_dataset)\n",
        "for file in t1ce_dataset1[0:int(len(t1ce_dataset1) * .8)]:\n",
        "  new_path = shutil.move(f\"{t1ce_dataset}/{file}\",t1ce_tr)\n",
        "\n",
        "    #20 data validation\n",
        "t1ce_dataset2 = os.listdir(t1ce_dataset)\n",
        "for file in t1ce_dataset2:\n",
        "  new_path = shutil.move(f\"{t1ce_dataset}/{file}\",t1ce_va)\n",
        "\n",
        "#t2\n",
        "t2_dataset = '/content/sample_data/t2'\n",
        "\n",
        "\n",
        "#file training dan validation\n",
        "file_train_flair = os.listdir(flair_tr)\n",
        "file_validation_flair = os.listdir(flair_va)\n",
        "file_train_t1 = os.listdir(t1_tr)\n",
        "file_validation_t1 = os.listdir(t1_va)\n",
        "file_train_t1ce = os.listdir(t1ce_tr)\n",
        "file_validation_t1ce = os.listdir(t1ce_va)\n",
        "file_train_t2 = os.listdir(t2_tr)\n",
        "file_validation_t2 = os.listdir(t2_va)\n",
        "\n",
        "#Print jumlah data training dan validation\n",
        "print(\"Data Flair Train : \" + str(len(file_train_flair)))\n",
        "print(\"Data Flair Validation : \" + str(len(file_validation_flair)))\n",
        "print(\"Data T1 Train : \" + str(len(file_train_t1)))\n",
        "print(\"Data T1 Validation : \" + str(len(file_validation_t1)))\n",
        "print(\"Data t1ce Train : \" + str(len(file_train_t1ce)))\n",
        "print(\"Data t1ce Validation : \" + str(len(file_validation_t1ce)))\n",
        "print(\"Data T2 Train : \" + str(len(file_train_t2)))\n",
        "print(\"Data T2 Validation : \" + str(len(file_validation_t2)))\n"
      ],
      "execution_count": null,
      "outputs": [
        {
          "output_type": "error",
          "ename": "FileExistsError",
          "evalue": "ignored",
          "traceback": [
            "\u001b[0;31m---------------------------------------------------------------------------\u001b[0m",
            "\u001b[0;31mFileExistsError\u001b[0m                           Traceback (most recent call last)",
            "\u001b[0;32m<ipython-input-9-cbd5ceedc296>\u001b[0m in \u001b[0;36m<module>\u001b[0;34m()\u001b[0m\n\u001b[1;32m      9\u001b[0m \u001b[0;31m#flair\u001b[0m\u001b[0;34m\u001b[0m\u001b[0;34m\u001b[0m\u001b[0;34m\u001b[0m\u001b[0m\n\u001b[1;32m     10\u001b[0m \u001b[0mflair_dataset\u001b[0m \u001b[0;34m=\u001b[0m \u001b[0;34m'/content/sample_data/flair'\u001b[0m\u001b[0;34m\u001b[0m\u001b[0;34m\u001b[0m\u001b[0m\n\u001b[0;32m---> 11\u001b[0;31m \u001b[0mos\u001b[0m\u001b[0;34m.\u001b[0m\u001b[0mmakedirs\u001b[0m\u001b[0;34m(\u001b[0m\u001b[0;34m'/content/sample_data/train/flair'\u001b[0m\u001b[0;34m)\u001b[0m\u001b[0;34m\u001b[0m\u001b[0;34m\u001b[0m\u001b[0m\n\u001b[0m\u001b[1;32m     12\u001b[0m \u001b[0mos\u001b[0m\u001b[0;34m.\u001b[0m\u001b[0mmakedirs\u001b[0m\u001b[0;34m(\u001b[0m\u001b[0;34m'/content/sample_data/validation/flair'\u001b[0m\u001b[0;34m)\u001b[0m\u001b[0;34m\u001b[0m\u001b[0;34m\u001b[0m\u001b[0m\n\u001b[1;32m     13\u001b[0m \u001b[0;34m\u001b[0m\u001b[0m\n",
            "\u001b[0;32m/usr/lib/python3.7/os.py\u001b[0m in \u001b[0;36mmakedirs\u001b[0;34m(name, mode, exist_ok)\u001b[0m\n\u001b[1;32m    221\u001b[0m             \u001b[0;32mreturn\u001b[0m\u001b[0;34m\u001b[0m\u001b[0;34m\u001b[0m\u001b[0m\n\u001b[1;32m    222\u001b[0m     \u001b[0;32mtry\u001b[0m\u001b[0;34m:\u001b[0m\u001b[0;34m\u001b[0m\u001b[0;34m\u001b[0m\u001b[0m\n\u001b[0;32m--> 223\u001b[0;31m         \u001b[0mmkdir\u001b[0m\u001b[0;34m(\u001b[0m\u001b[0mname\u001b[0m\u001b[0;34m,\u001b[0m \u001b[0mmode\u001b[0m\u001b[0;34m)\u001b[0m\u001b[0;34m\u001b[0m\u001b[0;34m\u001b[0m\u001b[0m\n\u001b[0m\u001b[1;32m    224\u001b[0m     \u001b[0;32mexcept\u001b[0m \u001b[0mOSError\u001b[0m\u001b[0;34m:\u001b[0m\u001b[0;34m\u001b[0m\u001b[0;34m\u001b[0m\u001b[0m\n\u001b[1;32m    225\u001b[0m         \u001b[0;31m# Cannot rely on checking for EEXIST, since the operating system\u001b[0m\u001b[0;34m\u001b[0m\u001b[0;34m\u001b[0m\u001b[0;34m\u001b[0m\u001b[0m\n",
            "\u001b[0;31mFileExistsError\u001b[0m: [Errno 17] File exists: '/content/sample_data/train/flair'"
          ]
        }
      ]
    },
    {
      "cell_type": "code",
      "metadata": {
        "id": "TK7ERVu_owEJ"
      },
      "source": [
        "import cv2\n",
        "import numpy as np\n",
        "\n",
        "#gather data train\n",
        "train_data = []\n",
        "train_label = []\n",
        "\n",
        "#train_dir = os.path.join('/content/sample_data/train')\n",
        "for r, d, f in os.walk(train) :\n",
        "    for file in f:\n",
        "        if \".png\" in file:\n",
        "            imagePath = os.path.join(r, file)\n",
        "            image = cv2.imread(imagePath)\n",
        "            image = cv2.resize(image, (250,250))\n",
        "            train_data.append(image)\n",
        "            label = imagePath.split(os.path.sep)[-2]\n",
        "            train_label.append(label)\n",
        "\n",
        "train_data = np.array(train_data)\n",
        "train_label = np.array(train_label)"
      ],
      "execution_count": null,
      "outputs": []
    },
    {
      "cell_type": "code",
      "metadata": {
        "id": "ePUakmFdpLQR"
      },
      "source": [
        "# Gather data validation\n",
        "val_data = []\n",
        "val_label = []\n",
        "\n",
        "#validation_dir = os.path.join('/content/sample_data/validation')\n",
        "for r, d, f in os.walk(validation) :\n",
        "    for file in f:\n",
        "        if \".png\" in file:\n",
        "            imagePath = os.path.join(r, file)\n",
        "            image = cv2.imread(imagePath)\n",
        "            image = cv2.resize(image, (250,250))\n",
        "            val_data.append(image)\n",
        "            label = imagePath.split(os.path.sep)[-2]\n",
        "            val_label.append(label)\n",
        "\n",
        "val_data = np.array(val_data)\n",
        "val_label = np.array(val_label)"
      ],
      "execution_count": null,
      "outputs": []
    },
    {
      "cell_type": "code",
      "metadata": {
        "id": "haFyyCvGpOqd"
      },
      "source": [
        "# Tampilkan shape dari data train dan data validation\n",
        "print(\"Train Data = \", train_data.shape)\n",
        "print(\"Train validation = \", train_validation.shape)\n",
        "print(\"Validation Data = \", val_data.shape)\n",
        "print(\"Validation validation = \", val_validation.shape)"
      ],
      "execution_count": null,
      "outputs": []
    },
    {
      "cell_type": "code",
      "metadata": {
        "id": "DNNFgdCupR2U"
      },
      "source": [
        "# Normalisasi dataset\n",
        "print(\"Data sebelum di-normalisasi \", train_data[0][0][0])\n",
        "\n",
        "x_train = train_data.astype('float32') / 255.0\n",
        "x_val = val_data.astype('float32') / 255.0\n",
        "print(\"Data setelah di-normalisasi \", x_train[0][0][0])"
      ],
      "execution_count": null,
      "outputs": []
    },
    {
      "cell_type": "code",
      "metadata": {
        "id": "CJGId-36pTww"
      },
      "source": [
        "# Transformasi validation encoder\n",
        "from sklearn.preprocessing import validationEncoder\n",
        "\n",
        "print(\"validation sebelum di-encoder \", train_validation[17000:17005])\n",
        "print(\"validation sebelum di-encoder \", train_validation[1:5])\n",
        "\n",
        "lb = validationEncoder()\n",
        "y_train = lb.fit_transform(train_validation)\n",
        "y_val = lb.fit_transform(val_validation)\n",
        "\n",
        "print(\"validation setelah di-encoder \", y_train[17000:17005])\n",
        "print(\"validation setelah di-encoder \", y_train[1:5])"
      ],
      "execution_count": null,
      "outputs": []
    }
  ]
}